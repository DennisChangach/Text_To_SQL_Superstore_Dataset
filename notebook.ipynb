{
 "cells": [
  {
   "cell_type": "markdown",
   "metadata": {},
   "source": [
    "## Chat with the SuperStore Dataset"
   ]
  },
  {
   "cell_type": "code",
   "execution_count": 1,
   "metadata": {},
   "outputs": [
    {
     "data": {
      "text/plain": [
       "True"
      ]
     },
     "execution_count": 1,
     "metadata": {},
     "output_type": "execute_result"
    }
   ],
   "source": [
    "#importing the necessary dependencies\n",
    "import os\n",
    "from langchain.llms import GooglePalm\n",
    "from dotenv import load_dotenv\n",
    "load_dotenv()"
   ]
  },
  {
   "cell_type": "code",
   "execution_count": 2,
   "metadata": {},
   "outputs": [
    {
     "name": "stderr",
     "output_type": "stream",
     "text": [
      "c:\\Users\\ADMIN\\Documents\\Data Analytics\\Machine Learning\\NLP\\NLP Projects\\Text_to_SQL_SuperStore\\venv\\lib\\site-packages\\tqdm\\auto.py:21: TqdmWarning: IProgress not found. Please update jupyter and ipywidgets. See https://ipywidgets.readthedocs.io/en/stable/user_install.html\n",
      "  from .autonotebook import tqdm as notebook_tqdm\n"
     ]
    }
   ],
   "source": [
    "#loading g the llm\n",
    "llm=GooglePalm(google_api_key=os.environ['GOOGLE_API_KEY'],temperature=0.6)"
   ]
  },
  {
   "cell_type": "code",
   "execution_count": 3,
   "metadata": {},
   "outputs": [
    {
     "name": "stdout",
     "output_type": "stream",
     "text": [
      "\n",
      "CREATE TABLE orders (\n",
      "\t`Row_ID` INTEGER, \n",
      "\t`Order_ID` TEXT, \n",
      "\t`Order_Date` TEXT, \n",
      "\t`Ship_Date` TEXT, \n",
      "\t`Ship_Mode` TEXT, \n",
      "\t`Customer_ID` TEXT, \n",
      "\t`Customer_Name` TEXT, \n",
      "\t`Segment` TEXT, \n",
      "\t`Country` TEXT, \n",
      "\t`City` TEXT, \n",
      "\t`State` TEXT, \n",
      "\t`Postal_Code` TEXT, \n",
      "\t`Region` TEXT, \n",
      "\t`Product_ID` TEXT, \n",
      "\t`Category` TEXT, \n",
      "\t`Sub_Category` TEXT, \n",
      "\t`Product_Name` TEXT, \n",
      "\t`Sales` DOUBLE, \n",
      "\t`Quantity` INTEGER, \n",
      "\t`Discount` DOUBLE, \n",
      "\t`Profit` DOUBLE\n",
      ")COLLATE utf8mb4_0900_ai_ci DEFAULT CHARSET=utf8mb4 ENGINE=InnoDB\n",
      "\n",
      "/*\n",
      "3 rows from orders table:\n",
      "Row_ID\tOrder_ID\tOrder_Date\tShip_Date\tShip_Mode\tCustomer_ID\tCustomer_Name\tSegment\tCountry\tCity\tState\tPostal_Code\tRegion\tProduct_ID\tCategory\tSub_Category\tProduct_Name\tSales\tQuantity\tDiscount\tProfit\n",
      "1\tCA-2020-152156\t11/8/2020\t11/11/2020\tSecond Class\tCG-12520\tClaire Gute\tConsumer\tUnited States\tHenderson\tKentucky\t42420\tSouth\tFUR-BO-10001798\tFurniture\tBookcases\tBush Somerset Collection Bookcase\t261.9600000000\t2\t0E-10\t41.9136000000\n",
      "2\tCA-2020-152156\t11/8/2020\t11/11/2020\tSecond Class\tCG-12520\tClaire Gute\tConsumer\tUnited States\tHenderson\tKentucky\t42420\tSouth\tFUR-CH-10000454\tFurniture\tChairs\tHon Deluxe Fabric Upholstered Stacking Chairs, Rounded Back\t731.9400000000\t3\t0E-10\t219.5820000000\n",
      "3\tCA-2020-138688\t6/12/2020\t6/16/2020\tSecond Class\tDV-13045\tDarrin Van Huff\tCorporate\tUnited States\tLos Angeles\tCalifornia\t90036\tWest\tOFF-LA-10000240\tOffice Supplies\tLabels\tSelf-Adhesive Address Labels for Typewriters by Universal\t14.6200000000\t2\t0E-10\t6.8714000000\n",
      "*/\n",
      "\n",
      "\n",
      "CREATE TABLE people (\n",
      "\t`Regional_Manager` TEXT, \n",
      "\t`Region` TEXT\n",
      ")COLLATE utf8mb4_0900_ai_ci DEFAULT CHARSET=utf8mb4 ENGINE=InnoDB\n",
      "\n",
      "/*\n",
      "3 rows from people table:\n",
      "Regional_Manager\tRegion\n",
      "Sadie Pawthorne\tWest\n",
      "Chuck Magee\tEast\n",
      "Roxanne Rodriguez\tCentral\n",
      "*/\n",
      "\n",
      "\n",
      "CREATE TABLE returns (\n",
      "\t`Returned` TEXT, \n",
      "\t`Order_ID` TEXT\n",
      ")COLLATE utf8mb4_0900_ai_ci DEFAULT CHARSET=utf8mb4 ENGINE=InnoDB\n",
      "\n",
      "/*\n",
      "3 rows from returns table:\n",
      "Returned\tOrder_ID\n",
      "Yes\tCA-2018-100762\n",
      "Yes\tCA-2018-100762\n",
      "Yes\tCA-2018-100762\n",
      "*/\n"
     ]
    }
   ],
   "source": [
    "#connecting to SQL database:Superstore database\n",
    "from langchain.utilities import SQLDatabase\n",
    "\n",
    "#db_password: Do Not Use Special Characters\n",
    "db_user = \"root\"\n",
    "db_password = \"root1234\"\n",
    "db_host = \"localhost\"\n",
    "db_name = \"sample_superstore\"\n",
    "\n",
    "db = SQLDatabase.from_uri(f\"mysql+pymysql://{db_user}:{db_password}@{db_host}/{db_name}\",sample_rows_in_table_info=3)\n",
    "\n",
    "print(db.table_info)"
   ]
  },
  {
   "cell_type": "code",
   "execution_count": 4,
   "metadata": {},
   "outputs": [],
   "source": [
    "#using SQL chain\n",
    "from langchain_experimental.sql import SQLDatabaseChain\n",
    "\n",
    "#Put verbose=true to view the generated SQL statements\n",
    "db_chain = SQLDatabaseChain.from_llm(llm,db,verbose=True,return_direct=True)"
   ]
  },
  {
   "cell_type": "markdown",
   "metadata": {},
   "source": [
    "### Exploring the Answers without adding Few Shot Learning"
   ]
  },
  {
   "cell_type": "code",
   "execution_count": 5,
   "metadata": {},
   "outputs": [
    {
     "name": "stdout",
     "output_type": "stream",
     "text": [
      "\n",
      "\n",
      "\u001b[1m> Entering new SQLDatabaseChain chain...\u001b[0m\n",
      "what is the total number of returns made by the store\n",
      "SQLQuery:\u001b[32;1m\u001b[1;3mSELECT count(*) as Total_Returns FROM returns\u001b[0m\n",
      "SQLResult: \u001b[33;1m\u001b[1;3m[(800,)]\u001b[0m\n",
      "\u001b[1m> Finished chain.\u001b[0m\n"
     ]
    }
   ],
   "source": [
    "qns1 = db_chain(\"what is the total number of returns made by the store\")"
   ]
  },
  {
   "cell_type": "code",
   "execution_count": 6,
   "metadata": {},
   "outputs": [
    {
     "data": {
      "text/plain": [
       "{'query': 'what is the total number of returns made by the store',\n",
       " 'result': '[(800,)]'}"
      ]
     },
     "execution_count": 6,
     "metadata": {},
     "output_type": "execute_result"
    }
   ],
   "source": [
    "qns1"
   ]
  },
  {
   "cell_type": "markdown",
   "metadata": {},
   "source": [
    "Need to be more specific to differentiate between the number of products returned and the number of orders returned. Let's check if it can tell the difference."
   ]
  },
  {
   "cell_type": "code",
   "execution_count": 7,
   "metadata": {},
   "outputs": [
    {
     "name": "stdout",
     "output_type": "stream",
     "text": [
      "\n",
      "\n",
      "\u001b[1m> Entering new SQLDatabaseChain chain...\u001b[0m\n",
      "what is the total number of orders returned to the store\n",
      "SQLQuery:\u001b[32;1m\u001b[1;3mSELECT COUNT(*) FROM returns;\u001b[0m\n",
      "SQLResult: \u001b[33;1m\u001b[1;3m[(800,)]\u001b[0m\n",
      "\u001b[1m> Finished chain.\u001b[0m\n"
     ]
    }
   ],
   "source": [
    "qns1 = db_chain.run(\"what is the total number of orders returned to the store\")"
   ]
  },
  {
   "cell_type": "code",
   "execution_count": 8,
   "metadata": {},
   "outputs": [
    {
     "name": "stdout",
     "output_type": "stream",
     "text": [
      "\n",
      "\n",
      "\u001b[1m> Entering new SQLDatabaseChain chain...\u001b[0m\n",
      "what is the total number of products returned to the store\n",
      "SQLQuery:\u001b[32;1m\u001b[1;3mSELECT COUNT(*) FROM returns\u001b[0m\n",
      "SQLResult: \u001b[33;1m\u001b[1;3m[(800,)]\u001b[0m\n",
      "\u001b[1m> Finished chain.\u001b[0m\n"
     ]
    }
   ],
   "source": [
    "qns1 = db_chain.run(\"what is the total number of products returned to the store\")"
   ]
  },
  {
   "cell_type": "markdown",
   "metadata": {},
   "source": [
    "Seems it can't tell the difference. This is an example of a query that should be used in few shot learning"
   ]
  },
  {
   "cell_type": "code",
   "execution_count": 9,
   "metadata": {},
   "outputs": [
    {
     "name": "stdout",
     "output_type": "stream",
     "text": [
      "\n",
      "\n",
      "\u001b[1m> Entering new SQLDatabaseChain chain...\u001b[0m\n",
      "what is the total sales made by the store\n",
      "SQLQuery:\u001b[32;1m\u001b[1;3mSELECT SUM(Sales) FROM orders\u001b[0m\n",
      "SQLResult: \u001b[33;1m\u001b[1;3m[(2272449.8562999545,)]\u001b[0m\n",
      "\u001b[1m> Finished chain.\u001b[0m\n"
     ]
    }
   ],
   "source": [
    "qns1 = db_chain.run(\"what is the total sales made by the store\")"
   ]
  },
  {
   "cell_type": "code",
   "execution_count": 10,
   "metadata": {},
   "outputs": [
    {
     "name": "stdout",
     "output_type": "stream",
     "text": [
      "\n",
      "\n",
      "\u001b[1m> Entering new SQLDatabaseChain chain...\u001b[0m\n",
      "which state made the highest sales\n",
      "SQLQuery:\u001b[32;1m\u001b[1;3mSELECT State, SUM(Sales) AS Total_Sales FROM orders GROUP BY State ORDER BY Total_Sales DESC LIMIT 1\u001b[0m\n",
      "SQLResult: \u001b[33;1m\u001b[1;3m[('California', 450567.5915000007)]\u001b[0m\n",
      "\u001b[1m> Finished chain.\u001b[0m\n"
     ]
    }
   ],
   "source": [
    "qns1 = db_chain.run(\"which state made the highest sales\")"
   ]
  },
  {
   "cell_type": "code",
   "execution_count": 11,
   "metadata": {},
   "outputs": [
    {
     "name": "stdout",
     "output_type": "stream",
     "text": [
      "\n",
      "\n",
      "\u001b[1m> Entering new SQLDatabaseChain chain...\u001b[0m\n",
      "Which state made the highest sales and by how much\n",
      "SQLQuery:\u001b[32;1m\u001b[1;3mSELECT State, SUM(Sales) AS Sales FROM orders GROUP BY State ORDER BY Sales DESC LIMIT 1\u001b[0m\n",
      "SQLResult: \u001b[33;1m\u001b[1;3m[('California', 450567.5915000007)]\u001b[0m\n",
      "\u001b[1m> Finished chain.\u001b[0m\n"
     ]
    }
   ],
   "source": [
    "qns1 = db_chain.run(\"Which state made the highest sales and by how much\")"
   ]
  },
  {
   "cell_type": "code",
   "execution_count": 12,
   "metadata": {},
   "outputs": [
    {
     "name": "stdout",
     "output_type": "stream",
     "text": [
      "\n",
      "\n",
      "\u001b[1m> Entering new SQLDatabaseChain chain...\u001b[0m\n",
      "Which region the made the highest sales and by how much\n",
      "SQLQuery:\u001b[32;1m\u001b[1;3mSELECT `Region`, SUM(`Sales`) AS `Total_Sales` FROM `orders` GROUP BY `Region` ORDER BY `Total_Sales` DESC LIMIT 1\u001b[0m\n",
      "SQLResult: \u001b[33;1m\u001b[1;3m[('West', 713471.3445000004)]\u001b[0m\n",
      "\u001b[1m> Finished chain.\u001b[0m\n"
     ]
    }
   ],
   "source": [
    "qns1 = db_chain.run(\"Which region the made the highest sales and by how much\")"
   ]
  },
  {
   "cell_type": "code",
   "execution_count": 13,
   "metadata": {},
   "outputs": [
    {
     "name": "stdout",
     "output_type": "stream",
     "text": [
      "\n",
      "\n",
      "\u001b[1m> Entering new SQLDatabaseChain chain...\u001b[0m\n",
      "How many orders were placed in each city?\n",
      "SQLQuery:\u001b[32;1m\u001b[1;3mSELECT City, COUNT(*) AS num_orders FROM orders GROUP BY City\u001b[0m\n",
      "SQLResult: \u001b[33;1m\u001b[1;3m[('Henderson', 51), ('Los Angeles', 731), ('Fort Lauderdale', 15), ('Concord', 31), ('Seattle', 412), ('Fort Worth', 27), ('Madison', 10), ('West Jordan', 5), ('San Francisco', 494), ('Fremont', 8), ('Philadelphia', 507), ('Orem', 9), ('Houston', 370), ('Richardson', 2), ('Naperville', 8), ('Melbourne', 1), ('Eagan', 8), ('Westland', 12), ('Dover', 18), ('New Albany', 4), ('New York City', 893), ('Troy', 28), ('Chicago', 301), ('Gilbert', 14), ('Springfield', 158), ('Jackson', 79), ('Memphis', 27), ('Decatur', 34), ('Durham', 9), ('Columbia', 78), ('Rochester', 51), ('Minneapolis', 23), ('Portland', 24), ('Saint Paul', 2), ('Aurora', 67), ('Charlotte', 52), ('Orland Park', 1), ('Urbandale', 3), ('Columbus', 214), ('Bristol', 12), ('Wilmington', 35), ('Bloomington', 15), ('Phoenix', 61), ('Roseville', 25), ('Independence', 2), ('Pasadena', 41), ('Newark', 93), ('Franklin', 34), ('Scottsdale', 12), ('San Jose', 41), ('Edmond', 2), ('Carlsbad', 11), ('San Antonio', 59), ('Monroe', 21), ('Fairfield', 43), ('Grand Prairie', 13), ('Redlands', 16), ('Hamilton', 4), ('Westfield', 6), ('Akron', 21), ('Denver', 43), ('Dallas', 149), ('Whittier', 1), ('Saginaw', 6), ('Medina', 9), ('Dublin', 14), ('Detroit', 111), ('Tampa', 35), ('Santa Clara', 4), ('Lakeville', 15), ('San Diego', 166), ('Brentwood', 16), ('Chapel Hill', 1), ('Morristown', 7), ('Cincinnati', 16), ('Inglewood', 14), ('Tamarac', 4), ('Colorado Springs', 25), ('Belleville', 9), ('Taylor', 3), ('Lakewood', 48), ('Arlington', 59), ('Arvada', 4), ('Hackensack', 6), ('Saint Petersburg', 14), ('Long Beach', 58), ('Hesperia', 4), ('Murfreesboro', 11), ('Austin', 38), ('Lowell', 15), ('Manchester', 11), ('Harlingen', 5), ('Tucson', 30), ('Quincy', 19), ('Pembroke Pines', 14), ('Des Moines', 17), ('Peoria', 23), ('Las Vegas', 13), ('Warwick', 5), ('Miami', 55), ('Huntington Beach', 6), ('Richmond', 88), ('Louisville', 57), ('Lawrence', 44), ('Canton', 3), ('New Rochelle', 8), ('Gastonia', 4), ('Jacksonville', 121), ('Auburn', 23), ('Norman', 2), ('Park Ridge', 3), ('Amarillo', 10), ('Lindenhurst', 1), ('Huntsville', 35), ('Fayetteville', 40), ('Costa Mesa', 11), ('Parker', 8), ('Atlanta', 39), ('Gladstone', 2), ('Great Falls', 7), ('Lakeland', 21), ('Montgomery', 10), ('Mesa', 28), ('Green Bay', 3), ('Anaheim', 26), ('Marysville', 2), ('Salem', 40), ('Laredo', 13), ('Grove City', 2), ('Dearborn', 4), ('Warner Robins', 2), ('Vallejo', 6), ('Mission Viejo', 5), ('Rochester Hills', 1), ('Plainfield', 13), ('Sierra Vista', 3), ('Vancouver', 5), ('Cleveland', 42), ('Tyler', 5), ('Burlington', 24), ('Waynesboro', 10), ('Chester', 16), ('Cary', 6), ('Palm Coast', 5), ('Mount Vernon', 8), ('Hialeah', 17), ('Oceanside', 30), ('Evanston', 4), ('Trenton', 13), ('Cottage Grove', 2), ('Bossier City', 6), ('Lancaster', 43), ('Asheville', 7), ('Lake Elsinore', 1), ('Omaha', 27), ('Edmonds', 14), ('Santa Ana', 14), ('Milwaukee', 45), ('Florence', 21), ('Linden', 1), ('Salinas', 8), ('New Brunswick', 2), ('Garland', 4), ('Norwich', 4), ('Alexandria', 14), ('Toledo', 31), ('Farmington', 3), ('Riverside', 13), ('Torrance', 3), ('Round Rock', 7), ('Boca Raton', 3), ('Virginia Beach', 16), ('Murrieta', 1), ('Olympia', 5), ('Washington', 10), ('Jefferson City', 1), ('Saint Peters', 1), ('Rockford', 11), ('Brownsville', 7), ('Yonkers', 15), ('Oakland', 26), ('Clinton', 29), ('Encinitas', 5), ('Roswell', 18), ('Jonesboro', 11), ('Antioch', 1), ('Homestead', 3), ('La Porte', 9), ('Lansing', 8), ('Cuyahoga Falls', 3), ('Reno', 4), ('Harrisonburg', 7), ('Escondido', 3), ('Royal Oak', 2), ('Rockville', 5), ('Coral Springs', 8), ('Buffalo', 10), ('Boynton Beach', 10), ('Gulfport', 3), ('Fresno', 25), ('Greenville', 9), ('Macon', 6), ('Cedar Rapids', 1), ('Providence', 30), ('Pueblo', 8), ('Deltona', 5), ('Murray', 5), ('Lorain', 8), ('Middletown', 9), ('Freeport', 10), ('Pico Rivera', 1), ('Provo', 9), ('Pleasant Grove', 6), ('Smyrna', 23), ('Parma', 10), ('Mobile', 11), ('New Bedford', 5), ('Irving', 8), ('Vineland', 8), ('Glendale', 21), ('Niagara Falls', 3), ('Thomasville', 3), ('Westminster', 15), ('Coppell', 4), ('Pomona', 7), ('North Las Vegas', 16), ('Allentown', 7), ('Tempe', 12), ('Laguna Niguel', 3), ('Bridgeton', 2), ('Everett', 22), ('Watertown', 9), ('Appleton', 2), ('Bellevue', 6), ('Allen', 4), ('El Paso', 19), ('Grapevine', 2), ('Carrollton', 15), ('Kent', 12), ('Lafayette', 30), ('Tigard', 7), ('Skokie', 8), ('Plano', 15), ('Suffolk', 10), ('Indianapolis', 23), ('Bayonne', 3), ('Greensboro', 13), ('Baltimore', 42), ('Kenosha', 9), ('Olathe', 5), ('Tulsa', 26), ('Redmond', 10), ('Raleigh', 22), ('Muskogee', 4), ('Meriden', 10), ('Bowling Green', 10), ('South Bend', 6), ('Spokane', 7), ('Keller', 1), ('Port Orange', 1), ('Charlottesville', 2), ('Missoula', 1), ('Apopka', 7), ('Reading', 5), ('Broomfield', 5), ('Paterson', 19), ('Oklahoma City', 22), ('Chesapeake', 17), ('Lubbock', 6), ('Johnson City', 11), ('San Bernardino', 9), ('Leominster', 4), ('Bozeman', 2), ('Perth Amboy', 7), ('Ontario', 1), ('Rancho Cucamonga', 4), ('Moorhead', 2), ('Mesquite', 5), ('Ormond Beach', 1), ('Sunnyvale', 6), ('York', 5), ('College Station', 3), ('Saint Louis', 4), ('Manteca', 3), ('San Angelo', 4), ('Salt Lake City', 5), ('Knoxville', 23), ('Little Rock', 23), ('Lincoln Park', 3), ('Marion', 19), ('Littleton', 1), ('Bangor', 5), ('Southaven', 7), ('New Castle', 2), ('Midland', 12), ('Sioux Falls', 9), ('Fort Collins', 7), ('Clarksville', 7), ('Sacramento', 12), ('Thousand Oaks', 5), ('Malden', 3), ('Holyoke', 1), ('Albuquerque', 14), ('Sparks', 2), ('Coachella', 1), ('Elmhurst', 4), ('Passaic', 6), ('North Charleston', 2), ('Newport News', 11), ('Jamestown', 2), ('Mishawaka', 2), ('La Quinta', 1), ('Tallahassee', 16), ('Nashville', 29), ('Bellingham', 3), ('Woodstock', 5), ('Haltom City', 4), ('Wheeling', 7), ('Summerville', 1), ('Hot Springs', 4), ('Englewood', 2), ('Las Cruces', 3), ('Hoover', 4), ('Frisco', 2), ('Vacaville', 1), ('Waukesha', 1), ('Bakersfield', 16), ('Pompano Beach', 3), ('Corpus Christi', 8), ('Redondo Beach', 8), ('Orlando', 11), ('Orange', 6), ('Lake Charles', 3), ('Highland Park', 7), ('Hempstead', 11), ('Noblesville', 4), ('Apple Valley', 9), ('Mount Pleasant', 2), ('Stockton', 4), ('Sterling Heights', 3), ('Eau Claire', 6), ('Pharr', 4), ('Billings', 1), ('Gresham', 5), ('Chattanooga', 10), ('Meridian', 4), ('Bolingbrook', 6), ('Maple Grove', 4), ('Woodland', 3), ('Missouri City', 1), ('Pearland', 3), ('San Mateo', 1), ('Grand Rapids', 6), ('Visalia', 4), ('Overland Park', 6), ('Temecula', 4), ('Yucaipa', 1), ('Revere', 7), ('Conroe', 1), ('Tinley Park', 1), ('Dubuque', 2), ('Dearborn Heights', 6), ('Santa Fe', 2), ('Hickory', 1), ('Carol Stream', 5), ('Saint Cloud', 3), ('North Miami', 2), ('Plantation', 11), ('Port Saint Lucie', 3), ('Rock Hill', 1), ('Odessa', 4), ('West Allis', 2), ('Manhattan', 1), ('Altoona', 1), ('Thornton', 9), ('Champaign', 1), ('Texarkana', 2), ('Edinburg', 3), ('Baytown', 1), ('Greenwood', 3), ('Woonsocket', 4), ('Superior', 9), ('Bedford', 4), ('Covington', 4), ('Broken Arrow', 5), ('Miramar', 7), ('Hollywood', 11), ('Deer Park', 1), ('Wichita', 7), ('Mcallen', 18), ('Iowa City', 1), ('Boise', 4), ('Cranston', 15), ('Medford', 2), ('Port Arthur', 6), ('Citrus Heights', 1), ('The Colony', 3), ('Daytona Beach', 4), ('Bullhead City', 2), ('Portage', 1), ('Fargo', 7), ('Elkhart', 2), ('San Gabriel', 3), ('Margate', 1), ('Sandy Springs', 13), ('Mentor', 6), ('Lawton', 4), ('Hampton', 11), ('Rome', 6), ('La Crosse', 5), ('Lewiston', 4), ('Hattiesburg', 9), ('Danville', 7), ('Logan', 5), ('Waterbury', 11), ('Athens', 8), ('Avondale', 6), ('Marietta', 7), ('Yuma', 4), ('Wausau', 4), ('Pasco', 6), ('Oak Park', 3), ('Pensacola', 1), ('League City', 6), ('Gaithersburg', 2), ('Lehi', 2), ('Tuscaloosa', 2), ('Moreno Valley', 10), ('Georgetown', 8), ('Loveland', 4), ('Chandler', 7), ('Helena', 3), ('Kirkwood', 1), ('Waco', 6), ('Frankfort', 2), ('Bethlehem', 5), ('Grand Island', 1), ('Woodbury', 3), ('Rogers', 1), ('Clovis', 2), ('Jupiter', 1), ('Santa Barbara', 8), ('Cedar Hill', 2), ('Norfolk', 1), ('Draper', 3), ('Ann Arbor', 5), ('La Mesa', 2), ('Pocatello', 6), ('Holland', 3), ('Milford', 6), ('Buffalo Grove', 2), ('Lake Forest', 6), ('Redding', 1), ('Chico', 10), ('Utica', 8), ('Conway', 1), ('Cheyenne', 1), ('Owensboro', 2), ('Caldwell', 2), ('Kenner', 2), ('Nashua', 2), ('Redwood City', 1), ('Lebanon', 3), ('Chula Vista', 1), ('Santa Maria', 1), ('Des Plaines', 6), ('Longview', 3), ('Hendersonville', 5), ('Waterloo', 1), ('Cambridge', 6), ('Palatine', 1), ('Beverly', 3), ('Eugene', 6), ('Oxnard', 8), ('Renton', 3), ('Glenview', 1), ('Delray Beach', 3), ('Commerce City', 1), ('Texas City', 3), ('Wilson', 5), ('Rio Rancho', 2), ('Goldsboro', 1), ('Montebello', 1), ('El Cajon', 2), ('Beaumont', 5), ('West Palm Beach', 3), ('Abilene', 1), ('Normal', 1), ('Saint Charles', 9), ('Camarillo', 5), ('Hillsboro', 4), ('Burbank', 3), ('Modesto', 3), ('Garden City', 5), ('Atlantic City', 1), ('Longmont', 2), ('Davis', 1), ('Morgan Hill', 4), ('Clifton', 2), ('Sheboygan', 4), ('East Point', 3), ('Rapid City', 2), ('Andover', 4), ('Kissimmee', 1), ('Shelton', 2), ('Danbury', 1), ('Sanford', 2), ('San Marcos', 4), ('Greeley', 2), ('Mansfield', 2), ('Elyria', 1), ('Twin Falls', 2), ('Coral Gables', 2), ('Romeoville', 1), ('Marlborough', 2), ('Laurel', 2), ('Bryan', 6), ('Pine Bluff', 2), ('Aberdeen', 1), ('Hagerstown', 1), ('East Orange', 5), ('Arlington Heights', 1), ('Oswego', 3), ('Coon Rapids', 2), ('San Clemente', 2), ('San Luis Obispo', 1), ('Springdale', 1), ('Lodi', 1), ('Mason', 3)]\u001b[0m\n",
      "\u001b[1m> Finished chain.\u001b[0m\n"
     ]
    }
   ],
   "source": [
    "qns1 = db_chain(\"How many orders were placed in each city?\")"
   ]
  },
  {
   "cell_type": "code",
   "execution_count": 14,
   "metadata": {},
   "outputs": [
    {
     "data": {
      "text/plain": [
       "{'query': 'How many orders were placed in each city?',\n",
       " 'result': \"[('Henderson', 51), ('Los Angeles', 731), ('Fort Lauderdale', 15), ('Concord', 31), ('Seattle', 412), ('Fort Worth', 27), ('Madison', 10), ('West Jordan', 5), ('San Francisco', 494), ('Fremont', 8), ('Philadelphia', 507), ('Orem', 9), ('Houston', 370), ('Richardson', 2), ('Naperville', 8), ('Melbourne', 1), ('Eagan', 8), ('Westland', 12), ('Dover', 18), ('New Albany', 4), ('New York City', 893), ('Troy', 28), ('Chicago', 301), ('Gilbert', 14), ('Springfield', 158), ('Jackson', 79), ('Memphis', 27), ('Decatur', 34), ('Durham', 9), ('Columbia', 78), ('Rochester', 51), ('Minneapolis', 23), ('Portland', 24), ('Saint Paul', 2), ('Aurora', 67), ('Charlotte', 52), ('Orland Park', 1), ('Urbandale', 3), ('Columbus', 214), ('Bristol', 12), ('Wilmington', 35), ('Bloomington', 15), ('Phoenix', 61), ('Roseville', 25), ('Independence', 2), ('Pasadena', 41), ('Newark', 93), ('Franklin', 34), ('Scottsdale', 12), ('San Jose', 41), ('Edmond', 2), ('Carlsbad', 11), ('San Antonio', 59), ('Monroe', 21), ('Fairfield', 43), ('Grand Prairie', 13), ('Redlands', 16), ('Hamilton', 4), ('Westfield', 6), ('Akron', 21), ('Denver', 43), ('Dallas', 149), ('Whittier', 1), ('Saginaw', 6), ('Medina', 9), ('Dublin', 14), ('Detroit', 111), ('Tampa', 35), ('Santa Clara', 4), ('Lakeville', 15), ('San Diego', 166), ('Brentwood', 16), ('Chapel Hill', 1), ('Morristown', 7), ('Cincinnati', 16), ('Inglewood', 14), ('Tamarac', 4), ('Colorado Springs', 25), ('Belleville', 9), ('Taylor', 3), ('Lakewood', 48), ('Arlington', 59), ('Arvada', 4), ('Hackensack', 6), ('Saint Petersburg', 14), ('Long Beach', 58), ('Hesperia', 4), ('Murfreesboro', 11), ('Austin', 38), ('Lowell', 15), ('Manchester', 11), ('Harlingen', 5), ('Tucson', 30), ('Quincy', 19), ('Pembroke Pines', 14), ('Des Moines', 17), ('Peoria', 23), ('Las Vegas', 13), ('Warwick', 5), ('Miami', 55), ('Huntington Beach', 6), ('Richmond', 88), ('Louisville', 57), ('Lawrence', 44), ('Canton', 3), ('New Rochelle', 8), ('Gastonia', 4), ('Jacksonville', 121), ('Auburn', 23), ('Norman', 2), ('Park Ridge', 3), ('Amarillo', 10), ('Lindenhurst', 1), ('Huntsville', 35), ('Fayetteville', 40), ('Costa Mesa', 11), ('Parker', 8), ('Atlanta', 39), ('Gladstone', 2), ('Great Falls', 7), ('Lakeland', 21), ('Montgomery', 10), ('Mesa', 28), ('Green Bay', 3), ('Anaheim', 26), ('Marysville', 2), ('Salem', 40), ('Laredo', 13), ('Grove City', 2), ('Dearborn', 4), ('Warner Robins', 2), ('Vallejo', 6), ('Mission Viejo', 5), ('Rochester Hills', 1), ('Plainfield', 13), ('Sierra Vista', 3), ('Vancouver', 5), ('Cleveland', 42), ('Tyler', 5), ('Burlington', 24), ('Waynesboro', 10), ('Chester', 16), ('Cary', 6), ('Palm Coast', 5), ('Mount Vernon', 8), ('Hialeah', 17), ('Oceanside', 30), ('Evanston', 4), ('Trenton', 13), ('Cottage Grove', 2), ('Bossier City', 6), ('Lancaster', 43), ('Asheville', 7), ('Lake Elsinore', 1), ('Omaha', 27), ('Edmonds', 14), ('Santa Ana', 14), ('Milwaukee', 45), ('Florence', 21), ('Linden', 1), ('Salinas', 8), ('New Brunswick', 2), ('Garland', 4), ('Norwich', 4), ('Alexandria', 14), ('Toledo', 31), ('Farmington', 3), ('Riverside', 13), ('Torrance', 3), ('Round Rock', 7), ('Boca Raton', 3), ('Virginia Beach', 16), ('Murrieta', 1), ('Olympia', 5), ('Washington', 10), ('Jefferson City', 1), ('Saint Peters', 1), ('Rockford', 11), ('Brownsville', 7), ('Yonkers', 15), ('Oakland', 26), ('Clinton', 29), ('Encinitas', 5), ('Roswell', 18), ('Jonesboro', 11), ('Antioch', 1), ('Homestead', 3), ('La Porte', 9), ('Lansing', 8), ('Cuyahoga Falls', 3), ('Reno', 4), ('Harrisonburg', 7), ('Escondido', 3), ('Royal Oak', 2), ('Rockville', 5), ('Coral Springs', 8), ('Buffalo', 10), ('Boynton Beach', 10), ('Gulfport', 3), ('Fresno', 25), ('Greenville', 9), ('Macon', 6), ('Cedar Rapids', 1), ('Providence', 30), ('Pueblo', 8), ('Deltona', 5), ('Murray', 5), ('Lorain', 8), ('Middletown', 9), ('Freeport', 10), ('Pico Rivera', 1), ('Provo', 9), ('Pleasant Grove', 6), ('Smyrna', 23), ('Parma', 10), ('Mobile', 11), ('New Bedford', 5), ('Irving', 8), ('Vineland', 8), ('Glendale', 21), ('Niagara Falls', 3), ('Thomasville', 3), ('Westminster', 15), ('Coppell', 4), ('Pomona', 7), ('North Las Vegas', 16), ('Allentown', 7), ('Tempe', 12), ('Laguna Niguel', 3), ('Bridgeton', 2), ('Everett', 22), ('Watertown', 9), ('Appleton', 2), ('Bellevue', 6), ('Allen', 4), ('El Paso', 19), ('Grapevine', 2), ('Carrollton', 15), ('Kent', 12), ('Lafayette', 30), ('Tigard', 7), ('Skokie', 8), ('Plano', 15), ('Suffolk', 10), ('Indianapolis', 23), ('Bayonne', 3), ('Greensboro', 13), ('Baltimore', 42), ('Kenosha', 9), ('Olathe', 5), ('Tulsa', 26), ('Redmond', 10), ('Raleigh', 22), ('Muskogee', 4), ('Meriden', 10), ('Bowling Green', 10), ('South Bend', 6), ('Spokane', 7), ('Keller', 1), ('Port Orange', 1), ('Charlottesville', 2), ('Missoula', 1), ('Apopka', 7), ('Reading', 5), ('Broomfield', 5), ('Paterson', 19), ('Oklahoma City', 22), ('Chesapeake', 17), ('Lubbock', 6), ('Johnson City', 11), ('San Bernardino', 9), ('Leominster', 4), ('Bozeman', 2), ('Perth Amboy', 7), ('Ontario', 1), ('Rancho Cucamonga', 4), ('Moorhead', 2), ('Mesquite', 5), ('Ormond Beach', 1), ('Sunnyvale', 6), ('York', 5), ('College Station', 3), ('Saint Louis', 4), ('Manteca', 3), ('San Angelo', 4), ('Salt Lake City', 5), ('Knoxville', 23), ('Little Rock', 23), ('Lincoln Park', 3), ('Marion', 19), ('Littleton', 1), ('Bangor', 5), ('Southaven', 7), ('New Castle', 2), ('Midland', 12), ('Sioux Falls', 9), ('Fort Collins', 7), ('Clarksville', 7), ('Sacramento', 12), ('Thousand Oaks', 5), ('Malden', 3), ('Holyoke', 1), ('Albuquerque', 14), ('Sparks', 2), ('Coachella', 1), ('Elmhurst', 4), ('Passaic', 6), ('North Charleston', 2), ('Newport News', 11), ('Jamestown', 2), ('Mishawaka', 2), ('La Quinta', 1), ('Tallahassee', 16), ('Nashville', 29), ('Bellingham', 3), ('Woodstock', 5), ('Haltom City', 4), ('Wheeling', 7), ('Summerville', 1), ('Hot Springs', 4), ('Englewood', 2), ('Las Cruces', 3), ('Hoover', 4), ('Frisco', 2), ('Vacaville', 1), ('Waukesha', 1), ('Bakersfield', 16), ('Pompano Beach', 3), ('Corpus Christi', 8), ('Redondo Beach', 8), ('Orlando', 11), ('Orange', 6), ('Lake Charles', 3), ('Highland Park', 7), ('Hempstead', 11), ('Noblesville', 4), ('Apple Valley', 9), ('Mount Pleasant', 2), ('Stockton', 4), ('Sterling Heights', 3), ('Eau Claire', 6), ('Pharr', 4), ('Billings', 1), ('Gresham', 5), ('Chattanooga', 10), ('Meridian', 4), ('Bolingbrook', 6), ('Maple Grove', 4), ('Woodland', 3), ('Missouri City', 1), ('Pearland', 3), ('San Mateo', 1), ('Grand Rapids', 6), ('Visalia', 4), ('Overland Park', 6), ('Temecula', 4), ('Yucaipa', 1), ('Revere', 7), ('Conroe', 1), ('Tinley Park', 1), ('Dubuque', 2), ('Dearborn Heights', 6), ('Santa Fe', 2), ('Hickory', 1), ('Carol Stream', 5), ('Saint Cloud', 3), ('North Miami', 2), ('Plantation', 11), ('Port Saint Lucie', 3), ('Rock Hill', 1), ('Odessa', 4), ('West Allis', 2), ('Manhattan', 1), ('Altoona', 1), ('Thornton', 9), ('Champaign', 1), ('Texarkana', 2), ('Edinburg', 3), ('Baytown', 1), ('Greenwood', 3), ('Woonsocket', 4), ('Superior', 9), ('Bedford', 4), ('Covington', 4), ('Broken Arrow', 5), ('Miramar', 7), ('Hollywood', 11), ('Deer Park', 1), ('Wichita', 7), ('Mcallen', 18), ('Iowa City', 1), ('Boise', 4), ('Cranston', 15), ('Medford', 2), ('Port Arthur', 6), ('Citrus Heights', 1), ('The Colony', 3), ('Daytona Beach', 4), ('Bullhead City', 2), ('Portage', 1), ('Fargo', 7), ('Elkhart', 2), ('San Gabriel', 3), ('Margate', 1), ('Sandy Springs', 13), ('Mentor', 6), ('Lawton', 4), ('Hampton', 11), ('Rome', 6), ('La Crosse', 5), ('Lewiston', 4), ('Hattiesburg', 9), ('Danville', 7), ('Logan', 5), ('Waterbury', 11), ('Athens', 8), ('Avondale', 6), ('Marietta', 7), ('Yuma', 4), ('Wausau', 4), ('Pasco', 6), ('Oak Park', 3), ('Pensacola', 1), ('League City', 6), ('Gaithersburg', 2), ('Lehi', 2), ('Tuscaloosa', 2), ('Moreno Valley', 10), ('Georgetown', 8), ('Loveland', 4), ('Chandler', 7), ('Helena', 3), ('Kirkwood', 1), ('Waco', 6), ('Frankfort', 2), ('Bethlehem', 5), ('Grand Island', 1), ('Woodbury', 3), ('Rogers', 1), ('Clovis', 2), ('Jupiter', 1), ('Santa Barbara', 8), ('Cedar Hill', 2), ('Norfolk', 1), ('Draper', 3), ('Ann Arbor', 5), ('La Mesa', 2), ('Pocatello', 6), ('Holland', 3), ('Milford', 6), ('Buffalo Grove', 2), ('Lake Forest', 6), ('Redding', 1), ('Chico', 10), ('Utica', 8), ('Conway', 1), ('Cheyenne', 1), ('Owensboro', 2), ('Caldwell', 2), ('Kenner', 2), ('Nashua', 2), ('Redwood City', 1), ('Lebanon', 3), ('Chula Vista', 1), ('Santa Maria', 1), ('Des Plaines', 6), ('Longview', 3), ('Hendersonville', 5), ('Waterloo', 1), ('Cambridge', 6), ('Palatine', 1), ('Beverly', 3), ('Eugene', 6), ('Oxnard', 8), ('Renton', 3), ('Glenview', 1), ('Delray Beach', 3), ('Commerce City', 1), ('Texas City', 3), ('Wilson', 5), ('Rio Rancho', 2), ('Goldsboro', 1), ('Montebello', 1), ('El Cajon', 2), ('Beaumont', 5), ('West Palm Beach', 3), ('Abilene', 1), ('Normal', 1), ('Saint Charles', 9), ('Camarillo', 5), ('Hillsboro', 4), ('Burbank', 3), ('Modesto', 3), ('Garden City', 5), ('Atlantic City', 1), ('Longmont', 2), ('Davis', 1), ('Morgan Hill', 4), ('Clifton', 2), ('Sheboygan', 4), ('East Point', 3), ('Rapid City', 2), ('Andover', 4), ('Kissimmee', 1), ('Shelton', 2), ('Danbury', 1), ('Sanford', 2), ('San Marcos', 4), ('Greeley', 2), ('Mansfield', 2), ('Elyria', 1), ('Twin Falls', 2), ('Coral Gables', 2), ('Romeoville', 1), ('Marlborough', 2), ('Laurel', 2), ('Bryan', 6), ('Pine Bluff', 2), ('Aberdeen', 1), ('Hagerstown', 1), ('East Orange', 5), ('Arlington Heights', 1), ('Oswego', 3), ('Coon Rapids', 2), ('San Clemente', 2), ('San Luis Obispo', 1), ('Springdale', 1), ('Lodi', 1), ('Mason', 3)]\"}"
      ]
     },
     "execution_count": 14,
     "metadata": {},
     "output_type": "execute_result"
    }
   ],
   "source": [
    "qns1"
   ]
  },
  {
   "cell_type": "code",
   "execution_count": 15,
   "metadata": {},
   "outputs": [
    {
     "name": "stdout",
     "output_type": "stream",
     "text": [
      "                   0    1\n",
      "0          Henderson   51\n",
      "1        Los Angeles  731\n",
      "2    Fort Lauderdale   15\n",
      "3            Concord   31\n",
      "4            Seattle  412\n",
      "..               ...  ...\n",
      "524     San Clemente    2\n",
      "525  San Luis Obispo    1\n",
      "526       Springdale    1\n",
      "527             Lodi    1\n",
      "528            Mason    3\n",
      "\n",
      "[529 rows x 2 columns]\n"
     ]
    }
   ],
   "source": [
    "#Getting table of pandas dataframe from the result\n",
    "import pandas as pd\n",
    "result_list = eval(qns1['result'])\n",
    "df = pd.DataFrame(result_list)\n",
    "print(df)\n"
   ]
  },
  {
   "cell_type": "markdown",
   "metadata": {},
   "source": [
    "### Creating Semantic Similarity Based example selector\n",
    "- create embedding on the few_shots: Using Google Gen Embeddings\n",
    "- Store the embeddings in a vector store: FAISS index\n",
    "- Retrieve the the top most Semantically close example from the vector store"
   ]
  },
  {
   "cell_type": "code",
   "execution_count": 16,
   "metadata": {},
   "outputs": [],
   "source": [
    "#Using Google \n",
    "from langchain_google_genai import GoogleGenerativeAIEmbeddings\n",
    "embeddings=GoogleGenerativeAIEmbeddings(model='models/embedding-001')"
   ]
  },
  {
   "cell_type": "code",
   "execution_count": 17,
   "metadata": {},
   "outputs": [
    {
     "name": "stdout",
     "output_type": "stream",
     "text": [
      "[{'Question': 'What is the total sales amount for all orders?', 'SQLQuery': 'SELECT SUM(Sales) FROM orders', 'SQLResult': 'Result of the SQL query', 'Answer': 'Answer'}, {'Question': 'How many orders were returned in total?', 'SQLQuery': 'SELECT COUNT(DISTINCT Order_ID) FROM returns', 'SQLResult': 'Result of the SQL query', 'Answer': 'Answer'}, {'Question': 'Who is the regional manager for the region with the highest sales?', 'SQLQuery': 'SELECT p.Regional_Manager FROM people p JOIN (SELECT Region, SUM(Sales) AS TotalSales FROM orders GROUP BY Region ORDER BY TotalSales DESC LIMIT 1) AS max_sales ON p.Region = max_sales.Region', 'SQLResult': 'Result of the SQL query', 'Answer': 'Sadie Pawthorne'}, {'Question': 'What is the total profit earned?', 'SQLQuery': 'SELECT SUM(Profit) FROM orders', 'SQLResult': 'Result of the SQL query', 'Answer': 'Answer'}, {'Question': 'How many orders were placed in total?', 'SQLQuery': 'SELECT COUNT(DISTINCT Order_ID) FROM orders', 'SQLResult': 'Result of the SQL query', 'Answer': 'Answer'}, {'Question': 'What is the average discount rate for all orders?', 'SQLQuery': 'SELECT AVG(Discount) FROM orders', 'SQLResult': 'Result of the SQL query', 'Answer': 'Answer'}, {'Question': 'How many orders were shipped via standard mode?', 'SQLQuery': \"SELECT COUNT(DISTINCT Order_ID) FROM orders WHERE Ship_Mode = 'Standard'\", 'SQLResult': 'Result of the SQL query', 'Answer': 'Answer'}, {'Question': 'What is the total quantity of products sold?', 'SQLQuery': 'SELECT SUM(Quantity) FROM orders', 'SQLResult': 'Result of the SQL query', 'Answer': 'Answer'}, {'Question': 'What is the average sales per order?', 'SQLQuery': 'SELECT SUM(Sales)/COUNT(DISTINCT Order_ID) FROM orders', 'SQLResult': 'Result of the SQL query', 'Answer': 'Answer'}, {'Question': 'How many unique customers placed orders?', 'SQLQuery': 'SELECT COUNT(DISTINCT Customer_ID) FROM orders', 'SQLResult': 'Result of the SQL query', 'Answer': 'Answer'}, {'Question': 'What are the top 5 product categories by total sales?', 'SQLQuery': 'SELECT Category, SUM(Sales) AS TotalSales FROM orders GROUP BY Category ORDER BY TotalSales DESC LIMIT 5', 'SQLResult': 'Result of the SQL query', 'Answer': 'Answer'}, {'Question': 'Which city has the highest total sales?', 'SQLQuery': 'SELECT City, SUM(Sales) AS TotalSales FROM orders GROUP BY City ORDER BY TotalSales DESC LIMIT 1', 'SQLResult': 'Result of the SQL query', 'Answer': 'Answer'}, {'Question': 'How many orders were returned in each country?', 'SQLQuery': 'SELECT o.Country, COUNT(DISTINCT r.Order_ID) AS TotalReturns FROM returns r JOIN orders o ON r.Order_ID = o.Order_ID GROUP BY o.Country', 'SQLResult': 'Result of the SQL query', 'Answer': 'Answer'}, {'Question': 'What is the average profit margin for each product sub-category?', 'SQLQuery': 'SELECT Sub_Category, AVG(Profit/Sales) AS AvgProfitMargin FROM orders GROUP BY Sub_Category', 'SQLResult': 'Result of the SQL query', 'Answer': 'Answer'}, {'Question': 'Which product category has the highest average quantity sold per order?', 'SQLQuery': 'SELECT Category, AVG(Quantity) AS AvgQuantity FROM orders GROUP BY Category ORDER BY AvgQuantity DESC LIMIT 1', 'SQLResult': 'Result of the SQL query', 'Answer': 'Answer'}, {'Question': 'What is the total sales amount for each segment in the last quarter?', 'SQLQuery': \"SELECT Segment, SUM(Sales) AS TotalSales FROM orders WHERE Order_Date BETWEEN '2023-10-01' AND '2023-12-31' GROUP BY Segment\", 'SQLResult': 'Result of the SQL query', 'Answer': 'Answer'}, {'Question': 'How many unique product names are there in the orders table?', 'SQLQuery': 'SELECT COUNT(DISTINCT Product_Name) FROM orders', 'SQLResult': 'Result of the SQL query', 'Answer': 'Answer'}, {'Question': 'What is the total profit earned in each region?', 'SQLQuery': 'SELECT Region, SUM(Profit) AS TotalProfit FROM orders GROUP BY Region', 'SQLResult': 'Result of the SQL query', 'Answer': 'Answer'}, {'Question': 'What are the top 3 cities with the highest average sales per order?', 'SQLQuery': 'SELECT City, SUM(Sales)/COUNT(DISTINCT Order_ID) AS AvgSalesPerOrder FROM orders GROUP BY City ORDER BY AvgSalesPerOrder DESC LIMIT 3', 'SQLResult': 'Result of the SQL query', 'Answer': 'Answer'}, {'Question': 'How many orders were placed by each customer?', 'SQLQuery': 'SELECT Customer_ID, COUNT(DISTINCT Order_ID) AS TotalOrders FROM orders GROUP BY Customer_ID', 'SQLResult': 'Result of the SQL query', 'Answer': 'Answer'}, {'Question': 'What is the average discount rate for each product category in the western region?', 'SQLQuery': \"SELECT o.Category, AVG(o.Discount) AS AvgDiscount FROM orders o JOIN people p ON o.Region = p.Region WHERE p.Region = 'West' GROUP BY o.Category\", 'SQLResult': 'Result of the SQL query', 'Answer': 'Answer'}, {'Question': 'How many returns were made for each sub-category of office supplies?', 'SQLQuery': \"SELECT o.Sub_Category, COUNT(DISTINCT r.Order_ID) AS TotalReturns FROM returns r JOIN orders o ON r.Order_ID = o.Order_ID WHERE o.Category = 'Office Supplies' GROUP BY o.Sub_Category\", 'SQLResult': 'Result of the SQL query', 'Answer': 'Answer'}, {'Question': 'What is the total sales amount for each month in the year 2023?', 'SQLQuery': \"SELECT strftime('%m', Order_Date) AS Month, SUM(Sales) AS TotalSales FROM orders WHERE strftime('%Y', Order_Date) = '2023' GROUP BY Month\", 'SQLResult': 'Result of the SQL query', 'Answer': 'Answer'}, {'Question': 'How many unique customers placed orders in each region?', 'SQLQuery': 'SELECT Region, COUNT(DISTINCT Customer_ID) AS UniqueCustomers FROM orders GROUP BY Region', 'SQLResult': 'Result of the SQL query', 'Answer': 'Answer'}]\n"
     ]
    }
   ],
   "source": [
    "#Need to combine all values in the few shot examples into one sentence\n",
    "from few_shots import few_shots\n",
    "print(few_shots)\n",
    "# creating a blob of all the sentences\n",
    "to_vectorize = [\" \".join(example.values()) for example in few_shots]"
   ]
  },
  {
   "cell_type": "code",
   "execution_count": 18,
   "metadata": {},
   "outputs": [],
   "source": [
    "#Using the FAISS vector database\n",
    "from langchain.vectorstores import FAISS #vector embeddngs\n",
    "\n",
    "#generating a vector store: \n",
    "vector_store=FAISS.from_texts(to_vectorize, embeddings, metadatas=few_shots)"
   ]
  },
  {
   "cell_type": "code",
   "execution_count": 19,
   "metadata": {},
   "outputs": [
    {
     "data": {
      "text/plain": [
       "[{'Question': 'How many orders were placed in total?',\n",
       "  'SQLQuery': 'SELECT COUNT(DISTINCT Order_ID) FROM orders',\n",
       "  'SQLResult': 'Result of the SQL query',\n",
       "  'Answer': 'Answer'},\n",
       " {'Question': 'How many unique customers placed orders?',\n",
       "  'SQLQuery': 'SELECT COUNT(DISTINCT Customer_ID) FROM orders',\n",
       "  'SQLResult': 'Result of the SQL query',\n",
       "  'Answer': 'Answer'}]"
      ]
     },
     "execution_count": 19,
     "metadata": {},
     "output_type": "execute_result"
    }
   ],
   "source": [
    "#Checking sematic similarity: # Helping to pull similar looking queries\n",
    "from langchain.prompts import SemanticSimilarityExampleSelector\n",
    "\n",
    "example_selector = SemanticSimilarityExampleSelector(\n",
    "    vectorstore = vector_store,\n",
    "    k=2, #number of examples\n",
    ")\n",
    "\n",
    "example_selector.select_examples({\"Question\": \"How many orders were placed from the store?\"})"
   ]
  },
  {
   "cell_type": "markdown",
   "metadata": {},
   "source": [
    "### Setting up Prompts\n",
    "\n",
    "Adding custom prompts to provide better context to the LLM"
   ]
  },
  {
   "cell_type": "code",
   "execution_count": 20,
   "metadata": {},
   "outputs": [
    {
     "name": "stdout",
     "output_type": "stream",
     "text": [
      "You are a MySQL expert. Given an input question, first create a syntactically correct MySQL query to run, then look at the results of the query and return the answer to the input question.\n",
      "Unless the user specifies in the question a specific number of examples to obtain, query for at most {top_k} results using the LIMIT clause as per MySQL. You can order the results to return the most informative data in the database.\n",
      "Never query for all columns from a table. You must query only the columns that are needed to answer the question. Wrap each column name in backticks (`) to denote them as delimited identifiers.\n",
      "Pay attention to use only the column names you can see in the tables below. Be careful to not query for columns that do not exist. Also, pay attention to which column is in which table.\n",
      "Pay attention to use CURDATE() function to get the current date, if the question involves \"today\".\n",
      "\n",
      "Use the following format:\n",
      "\n",
      "Question: Question here\n",
      "SQLQuery: SQL Query to run\n",
      "SQLResult: Result of the SQLQuery\n",
      "Answer: Final answer here\n",
      "\n",
      "\n"
     ]
    }
   ],
   "source": [
    "from langchain.prompts import FewShotPromptTemplate\n",
    "from langchain.chains.sql_database.prompt import PROMPT_SUFFIX, _mysql_prompt\n",
    "from langchain.prompts.prompt import PromptTemplate\n",
    "#adding mysql prompt\n",
    "print(_mysql_prompt)"
   ]
  },
  {
   "cell_type": "code",
   "execution_count": 21,
   "metadata": {},
   "outputs": [
    {
     "name": "stdout",
     "output_type": "stream",
     "text": [
      "Only use the following tables:\n",
      "{table_info}\n",
      "\n",
      "Question: {input}\n"
     ]
    }
   ],
   "source": [
    "print(PROMPT_SUFFIX)"
   ]
  },
  {
   "cell_type": "code",
   "execution_count": 96,
   "metadata": {},
   "outputs": [],
   "source": [
    "mysql_prompt = \"\"\"You are a MySQL expert. Given an input question, first create a syntactically correct MySQL query to run, then look at the results of the query and return the answer to the input question.\n",
    "Unless the user specifies in the question a specific number of examples to obtain, query for at most {top_k} results using the LIMIT clause as per MySQL. You can order the results to return the most informative data in the database.\n",
    "Never query for all columns from a table. You must query only the columns that are needed to answer the question. Wrap each column name in backticks (`) to denote them as delimited identifiers.\n",
    "Pay attention to use only the column names you can see in the tables below. Be careful to not query for columns that do not exist. Also, pay attention to which column is in which table.\n",
    "Pay attention to use CURDATE() function to get the current date, if the question involves \"today\".\n",
    "Use the following format:\n",
    "\n",
    "Question: Question here\n",
    "SQLQuery: SQL Query to run\n",
    "SQLResult: Result of the SQLQuery\n",
    "\n",
    "\"\"\""
   ]
  },
  {
   "cell_type": "code",
   "execution_count": 97,
   "metadata": {},
   "outputs": [],
   "source": [
    "#Example prompt format\n",
    "example_prompt = PromptTemplate(\n",
    "    input_variables=[\"Question\", \"SQLQuery\", \"SQLResult\"],\n",
    "    template=\"\\nQuestion: {Question}\\nSQLQuery: {SQLQuery}\\nSQLResult: {SQLResult}\",\n",
    ")"
   ]
  },
  {
   "cell_type": "code",
   "execution_count": 98,
   "metadata": {},
   "outputs": [],
   "source": [
    "# Entire Prompt\n",
    "few_shot_prompt = FewShotPromptTemplate(\n",
    "    example_selector=example_selector,\n",
    "    example_prompt=example_prompt,\n",
    "    prefix=mysql_prompt,\n",
    "    suffix=PROMPT_SUFFIX,\n",
    "    input_variables=[\"input\", \"table_info\", \"top_k\"], #These variables are used in the prefix and suffix\n",
    ")"
   ]
  },
  {
   "cell_type": "code",
   "execution_count": 99,
   "metadata": {},
   "outputs": [],
   "source": [
    "#Chain_\n",
    "new_chain = SQLDatabaseChain.from_llm(llm, db, verbose=True, prompt=few_shot_prompt,\n",
    "                                      return_direct=True,return_intermediate_steps=True)"
   ]
  },
  {
   "cell_type": "code",
   "execution_count": 103,
   "metadata": {},
   "outputs": [
    {
     "name": "stdout",
     "output_type": "stream",
     "text": [
      "\n",
      "\n",
      "\u001b[1m> Entering new SQLDatabaseChain chain...\u001b[0m\n",
      "Which product category has the highest average quantity sold per order?\n",
      "SQLQuery:\u001b[32;1m\u001b[1;3mSELECT Category, AVG(Quantity) AS AvgQuantity FROM orders GROUP BY Category ORDER BY AvgQuantity DESC LIMIT 1\u001b[0m\n",
      "SQLResult: \u001b[33;1m\u001b[1;3m[('Office Supplies', Decimal('3.8038'))]\u001b[0m\n",
      "\u001b[1m> Finished chain.\u001b[0m\n"
     ]
    }
   ],
   "source": [
    "#Checking how the new chain performs\n",
    "response = new_chain(\"Which product category has the highest average quantity sold per order?\")"
   ]
  },
  {
   "cell_type": "code",
   "execution_count": 102,
   "metadata": {},
   "outputs": [
    {
     "data": {
      "text/plain": [
       "{'query': 'What is the average discount rate for each product category in the western region?',\n",
       " 'result': \"[('Office Supplies', 0.09355016538037439), ('Furniture', 0.13309143686502267), ('Technology', 0.13355704697986673)]\",\n",
       " 'intermediate_steps': [{'input': 'What is the average discount rate for each product category in the western region?\\nSQLQuery:',\n",
       "   'top_k': '5',\n",
       "   'dialect': 'mysql',\n",
       "   'table_info': '\\nCREATE TABLE orders (\\n\\t`Row_ID` INTEGER, \\n\\t`Order_ID` TEXT, \\n\\t`Order_Date` TEXT, \\n\\t`Ship_Date` TEXT, \\n\\t`Ship_Mode` TEXT, \\n\\t`Customer_ID` TEXT, \\n\\t`Customer_Name` TEXT, \\n\\t`Segment` TEXT, \\n\\t`Country` TEXT, \\n\\t`City` TEXT, \\n\\t`State` TEXT, \\n\\t`Postal_Code` TEXT, \\n\\t`Region` TEXT, \\n\\t`Product_ID` TEXT, \\n\\t`Category` TEXT, \\n\\t`Sub_Category` TEXT, \\n\\t`Product_Name` TEXT, \\n\\t`Sales` DOUBLE, \\n\\t`Quantity` INTEGER, \\n\\t`Discount` DOUBLE, \\n\\t`Profit` DOUBLE\\n)COLLATE utf8mb4_0900_ai_ci DEFAULT CHARSET=utf8mb4 ENGINE=InnoDB\\n\\n/*\\n3 rows from orders table:\\nRow_ID\\tOrder_ID\\tOrder_Date\\tShip_Date\\tShip_Mode\\tCustomer_ID\\tCustomer_Name\\tSegment\\tCountry\\tCity\\tState\\tPostal_Code\\tRegion\\tProduct_ID\\tCategory\\tSub_Category\\tProduct_Name\\tSales\\tQuantity\\tDiscount\\tProfit\\n1\\tCA-2020-152156\\t11/8/2020\\t11/11/2020\\tSecond Class\\tCG-12520\\tClaire Gute\\tConsumer\\tUnited States\\tHenderson\\tKentucky\\t42420\\tSouth\\tFUR-BO-10001798\\tFurniture\\tBookcases\\tBush Somerset Collection Bookcase\\t261.9600000000\\t2\\t0E-10\\t41.9136000000\\n2\\tCA-2020-152156\\t11/8/2020\\t11/11/2020\\tSecond Class\\tCG-12520\\tClaire Gute\\tConsumer\\tUnited States\\tHenderson\\tKentucky\\t42420\\tSouth\\tFUR-CH-10000454\\tFurniture\\tChairs\\tHon Deluxe Fabric Upholstered Stacking Chairs, Rounded Back\\t731.9400000000\\t3\\t0E-10\\t219.5820000000\\n3\\tCA-2020-138688\\t6/12/2020\\t6/16/2020\\tSecond Class\\tDV-13045\\tDarrin Van Huff\\tCorporate\\tUnited States\\tLos Angeles\\tCalifornia\\t90036\\tWest\\tOFF-LA-10000240\\tOffice Supplies\\tLabels\\tSelf-Adhesive Address Labels for Typewriters by Universal\\t14.6200000000\\t2\\t0E-10\\t6.8714000000\\n*/\\n\\n\\nCREATE TABLE people (\\n\\t`Regional_Manager` TEXT, \\n\\t`Region` TEXT\\n)COLLATE utf8mb4_0900_ai_ci DEFAULT CHARSET=utf8mb4 ENGINE=InnoDB\\n\\n/*\\n3 rows from people table:\\nRegional_Manager\\tRegion\\nSadie Pawthorne\\tWest\\nChuck Magee\\tEast\\nRoxanne Rodriguez\\tCentral\\n*/\\n\\n\\nCREATE TABLE returns (\\n\\t`Returned` TEXT, \\n\\t`Order_ID` TEXT\\n)COLLATE utf8mb4_0900_ai_ci DEFAULT CHARSET=utf8mb4 ENGINE=InnoDB\\n\\n/*\\n3 rows from returns table:\\nReturned\\tOrder_ID\\nYes\\tCA-2018-100762\\nYes\\tCA-2018-100762\\nYes\\tCA-2018-100762\\n*/',\n",
       "   'stop': ['\\nSQLResult:']},\n",
       "  \"SELECT Category, AVG(Discount) AS AvgDiscount FROM orders o JOIN people p ON o.Region = p.Region WHERE p.Region = 'West' GROUP BY o.Category\",\n",
       "  {'sql_cmd': \"SELECT Category, AVG(Discount) AS AvgDiscount FROM orders o JOIN people p ON o.Region = p.Region WHERE p.Region = 'West' GROUP BY o.Category\"},\n",
       "  \"[('Office Supplies', 0.09355016538037439), ('Furniture', 0.13309143686502267), ('Technology', 0.13355704697986673)]\"]}"
      ]
     },
     "execution_count": 102,
     "metadata": {},
     "output_type": "execute_result"
    }
   ],
   "source": [
    "response"
   ]
  },
  {
   "cell_type": "code",
   "execution_count": 104,
   "metadata": {},
   "outputs": [
    {
     "data": {
      "text/plain": [
       "\"[('Office Supplies', Decimal('3.8038'))]\""
      ]
     },
     "execution_count": 104,
     "metadata": {},
     "output_type": "execute_result"
    }
   ],
   "source": [
    "response['result']"
   ]
  },
  {
   "cell_type": "code",
   "execution_count": 110,
   "metadata": {},
   "outputs": [
    {
     "data": {
      "text/plain": [
       "\"[('Office Supplies', Decimal('3.8038'))]\""
      ]
     },
     "execution_count": 110,
     "metadata": {},
     "output_type": "execute_result"
    }
   ],
   "source": [
    "import ast\n",
    "from decimal import Decimal\n",
    "response['result']"
   ]
  },
  {
   "cell_type": "code",
   "execution_count": 54,
   "metadata": {},
   "outputs": [
    {
     "data": {
      "text/plain": [
       "'SELECT City, SUM(Sales) AS TotalSales FROM orders GROUP BY City ORDER BY TotalSales DESC LIMIT 1'"
      ]
     },
     "execution_count": 54,
     "metadata": {},
     "output_type": "execute_result"
    }
   ],
   "source": [
    "#prints the SQL code used\n",
    "response['intermediate_steps'][2]['sql_cmd']"
   ]
  },
  {
   "cell_type": "code",
   "execution_count": 55,
   "metadata": {},
   "outputs": [],
   "source": [
    "sql_cmd = response['intermediate_steps'][2]['sql_cmd']"
   ]
  },
  {
   "cell_type": "code",
   "execution_count": 56,
   "metadata": {},
   "outputs": [
    {
     "data": {
      "text/plain": [
       "'SELECT City, SUM(Sales) AS TotalSales FROM orders GROUP BY City ORDER BY TotalSales DESC LIMIT 1'"
      ]
     },
     "execution_count": 56,
     "metadata": {},
     "output_type": "execute_result"
    }
   ],
   "source": [
    "sql_cmd"
   ]
  },
  {
   "cell_type": "markdown",
   "metadata": {},
   "source": [
    "### Extracting Column names from the generated sql code"
   ]
  },
  {
   "cell_type": "code",
   "execution_count": 74,
   "metadata": {},
   "outputs": [],
   "source": [
    "# Using the Google Palm llm\n",
    "column_names = llm.invoke(\"Could you generate the column names based on this SQL Query {} and store in a list called column_names\".format(sql_cmd))"
   ]
  },
  {
   "cell_type": "code",
   "execution_count": 76,
   "metadata": {},
   "outputs": [
    {
     "data": {
      "text/plain": [
       "\"```python\\ncolumn_names = ['City', 'TotalSales']\\n```\""
      ]
     },
     "execution_count": 76,
     "metadata": {},
     "output_type": "execute_result"
    }
   ],
   "source": [
    "column_names"
   ]
  },
  {
   "cell_type": "code",
   "execution_count": 78,
   "metadata": {},
   "outputs": [
    {
     "data": {
      "text/plain": [
       "\" ['City', 'TotalSales']\\n```\""
      ]
     },
     "execution_count": 78,
     "metadata": {},
     "output_type": "execute_result"
    }
   ],
   "source": [
    "column_names.split('=')[1]"
   ]
  },
  {
   "cell_type": "code",
   "execution_count": 113,
   "metadata": {},
   "outputs": [],
   "source": [
    "import re\n",
    "import ast\n",
    "from decimal import Decimal\n",
    "#defining a function to get the column names ans takes in the response as the input\n",
    "def get_column_names(response):\n",
    "    #Getting the sql cmd from the chain reponse\n",
    "    sql_cmd = response['intermediate_steps'][2]['sql_cmd']\n",
    "\n",
    "    #Using the llm to extract the name of the columns from the sql query\n",
    "    column_names = llm.invoke(\"Could you generate the column names based on this SQL Query {} and store in a list called column_names\".format(sql_cmd))\n",
    "\n",
    "    # Define the regex pattern to match the list\n",
    "    pattern = r\"\\[.*?\\]\"\n",
    "\n",
    "    # Use re.search to find the first occurrence of the pattern\n",
    "    match = re.search(pattern, column_names)\n",
    "\n",
    "    if match:\n",
    "        # Extract the matched substring\n",
    "        extracted_list_str = match.group()\n",
    "        # Parse the string representation of the list into a Python list\n",
    "        extracted_list = ast.literal_eval(extracted_list_str)\n",
    "        print(extracted_list)\n",
    "    else:\n",
    "        return None\n",
    "\n",
    "    "
   ]
  },
  {
   "cell_type": "code",
   "execution_count": 115,
   "metadata": {},
   "outputs": [
    {
     "name": "stdout",
     "output_type": "stream",
     "text": [
      "['Category', 'AvgQuantity']\n"
     ]
    }
   ],
   "source": [
    "get_column_names(response)"
   ]
  },
  {
   "cell_type": "markdown",
   "metadata": {},
   "source": [
    "### Creating a Dataframe from the SQL Result"
   ]
  },
  {
   "cell_type": "code",
   "execution_count": 111,
   "metadata": {},
   "outputs": [],
   "source": [
    "#Function to return dataframe\n",
    "def return_df(response):\n",
    "    result_list = eval(response['result'])\n",
    "    df = pd.DataFrame(result_list)\n",
    "    return df"
   ]
  },
  {
   "cell_type": "code",
   "execution_count": null,
   "metadata": {},
   "outputs": [],
   "source": []
  },
  {
   "cell_type": "code",
   "execution_count": 114,
   "metadata": {},
   "outputs": [
    {
     "name": "stdout",
     "output_type": "stream",
     "text": [
      "\n",
      "\n",
      "\u001b[1m> Entering new SQLDatabaseChain chain...\u001b[0m\n",
      "Which product category has the highest average quantity sold per order?\n",
      "SQLQuery:\u001b[32;1m\u001b[1;3mSELECT Category, AVG(Quantity) AS AvgQuantity FROM orders GROUP BY Category ORDER BY AvgQuantity DESC LIMIT 1\u001b[0m\n",
      "SQLResult: \u001b[33;1m\u001b[1;3m[('Office Supplies', Decimal('3.8038'))]\u001b[0m\n",
      "\u001b[1m> Finished chain.\u001b[0m\n"
     ]
    },
    {
     "data": {
      "text/html": [
       "<div>\n",
       "<style scoped>\n",
       "    .dataframe tbody tr th:only-of-type {\n",
       "        vertical-align: middle;\n",
       "    }\n",
       "\n",
       "    .dataframe tbody tr th {\n",
       "        vertical-align: top;\n",
       "    }\n",
       "\n",
       "    .dataframe thead th {\n",
       "        text-align: right;\n",
       "    }\n",
       "</style>\n",
       "<table border=\"1\" class=\"dataframe\">\n",
       "  <thead>\n",
       "    <tr style=\"text-align: right;\">\n",
       "      <th></th>\n",
       "      <th>0</th>\n",
       "      <th>1</th>\n",
       "    </tr>\n",
       "  </thead>\n",
       "  <tbody>\n",
       "    <tr>\n",
       "      <th>0</th>\n",
       "      <td>Office Supplies</td>\n",
       "      <td>3.8038</td>\n",
       "    </tr>\n",
       "  </tbody>\n",
       "</table>\n",
       "</div>"
      ],
      "text/plain": [
       "                 0       1\n",
       "0  Office Supplies  3.8038"
      ]
     },
     "execution_count": 114,
     "metadata": {},
     "output_type": "execute_result"
    }
   ],
   "source": [
    "response = new_chain(\"Which product category has the highest average quantity sold per order?\")\n",
    "df = return_df(response)\n",
    "df.head()"
   ]
  },
  {
   "cell_type": "code",
   "execution_count": 34,
   "metadata": {},
   "outputs": [
    {
     "name": "stdout",
     "output_type": "stream",
     "text": [
      "\n",
      "\n",
      "\u001b[1m> Entering new SQLDatabaseChain chain...\u001b[0m\n",
      "How many unique product names are there in the orders table? in the SQLResult return the possible column names as the first tuple\n",
      "SQLQuery:\u001b[32;1m\u001b[1;3mSELECT COUNT(DISTINCT Product_Name) FROM orders\u001b[0m\n",
      "SQLResult: \u001b[33;1m\u001b[1;3m[(1797,)]\u001b[0m\n",
      "\u001b[1m> Finished chain.\u001b[0m\n"
     ]
    },
    {
     "data": {
      "text/html": [
       "<div>\n",
       "<style scoped>\n",
       "    .dataframe tbody tr th:only-of-type {\n",
       "        vertical-align: middle;\n",
       "    }\n",
       "\n",
       "    .dataframe tbody tr th {\n",
       "        vertical-align: top;\n",
       "    }\n",
       "\n",
       "    .dataframe thead th {\n",
       "        text-align: right;\n",
       "    }\n",
       "</style>\n",
       "<table border=\"1\" class=\"dataframe\">\n",
       "  <thead>\n",
       "    <tr style=\"text-align: right;\">\n",
       "      <th></th>\n",
       "      <th>0</th>\n",
       "    </tr>\n",
       "  </thead>\n",
       "  <tbody>\n",
       "    <tr>\n",
       "      <th>0</th>\n",
       "      <td>1797</td>\n",
       "    </tr>\n",
       "  </tbody>\n",
       "</table>\n",
       "</div>"
      ],
      "text/plain": [
       "      0\n",
       "0  1797"
      ]
     },
     "execution_count": 34,
     "metadata": {},
     "output_type": "execute_result"
    }
   ],
   "source": [
    "response = new_chain(\"How many unique product names are there in the orders table? in the SQLResult return the possible column names as the first tuple\")\n",
    "df = return_df(response)\n",
    "df.head()"
   ]
  },
  {
   "cell_type": "code",
   "execution_count": 33,
   "metadata": {},
   "outputs": [
    {
     "data": {
      "text/plain": [
       "{'query': 'How many unique product names are there in the orders table?',\n",
       " 'result': '[(1797,)]'}"
      ]
     },
     "execution_count": 33,
     "metadata": {},
     "output_type": "execute_result"
    }
   ],
   "source": [
    "response"
   ]
  },
  {
   "cell_type": "code",
   "execution_count": 30,
   "metadata": {},
   "outputs": [
    {
     "name": "stdout",
     "output_type": "stream",
     "text": [
      "\n",
      "\n",
      "\u001b[1m> Entering new SQLDatabaseChain chain...\u001b[0m\n",
      "How many orders were returned to the store\n",
      "SQLQuery:\u001b[32;1m\u001b[1;3mSELECT COUNT(DISTINCT o.Order_ID) AS TotalOrders FROM orders o JOIN returns r ON o.Order_ID = r.Order_ID\u001b[0m\n",
      "SQLResult: \u001b[33;1m\u001b[1;3m[(292,)]\u001b[0m\n",
      "\u001b[1m> Finished chain.\u001b[0m\n"
     ]
    },
    {
     "data": {
      "text/plain": [
       "{'query': 'How many orders were returned to the store', 'result': '[(292,)]'}"
      ]
     },
     "execution_count": 30,
     "metadata": {},
     "output_type": "execute_result"
    }
   ],
   "source": [
    "new_chain(\"How many orders were returned to the store\")"
   ]
  },
  {
   "cell_type": "code",
   "execution_count": 31,
   "metadata": {},
   "outputs": [
    {
     "name": "stdout",
     "output_type": "stream",
     "text": [
      "\n",
      "\n",
      "\u001b[1m> Entering new SQLDatabaseChain chain...\u001b[0m\n",
      "How many returns were made for each sub-category of Stattionery?\n",
      "SQLQuery:\u001b[32;1m\u001b[1;3mSELECT o.Sub_Category, COUNT(DISTINCT r.Order_ID) AS TotalReturns FROM returns r JOIN orders o ON r.Order_ID = o.Order_ID WHERE o.Category = 'Stationery' GROUP BY o.Sub_Category\u001b[0m\n",
      "SQLResult: \u001b[33;1m\u001b[1;3m\u001b[0m\n",
      "\u001b[1m> Finished chain.\u001b[0m\n",
      "Sorry!Failed to generate the SQL Query, Please try rewording your question\n"
     ]
    }
   ],
   "source": [
    "try:\n",
    "    response = new_chain(\"How many returns were made for each sub-category of Stattionery?\")\n",
    "    df = return_df(response)\n",
    "    df.head()\n",
    "except Exception as e:\n",
    "    print(\"Sorry!Failed to generate the SQL Query, Please try rewording your question\")"
   ]
  }
 ],
 "metadata": {
  "kernelspec": {
   "display_name": "Python 3",
   "language": "python",
   "name": "python3"
  },
  "language_info": {
   "codemirror_mode": {
    "name": "ipython",
    "version": 3
   },
   "file_extension": ".py",
   "mimetype": "text/x-python",
   "name": "python",
   "nbconvert_exporter": "python",
   "pygments_lexer": "ipython3",
   "version": "3.10.0"
  }
 },
 "nbformat": 4,
 "nbformat_minor": 2
}
