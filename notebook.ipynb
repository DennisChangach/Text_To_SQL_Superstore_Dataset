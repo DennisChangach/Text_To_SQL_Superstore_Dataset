{
 "cells": [
  {
   "cell_type": "markdown",
   "metadata": {},
   "source": [
    "## Chat with the SuperStore Dataset"
   ]
  },
  {
   "cell_type": "code",
   "execution_count": 27,
   "metadata": {},
   "outputs": [
    {
     "data": {
      "text/plain": [
       "True"
      ]
     },
     "execution_count": 27,
     "metadata": {},
     "output_type": "execute_result"
    }
   ],
   "source": [
    "#importing the necessary dependencies\n",
    "import os\n",
    "from langchain.llms import GooglePalm\n",
    "from dotenv import load_dotenv\n",
    "load_dotenv()"
   ]
  },
  {
   "cell_type": "code",
   "execution_count": 28,
   "metadata": {},
   "outputs": [],
   "source": [
    "#loading g the llm\n",
    "llm=GooglePalm(google_api_key=os.environ['GOOGLE_API_KEY'],temperature=0.6)"
   ]
  },
  {
   "cell_type": "code",
   "execution_count": 29,
   "metadata": {},
   "outputs": [
    {
     "name": "stdout",
     "output_type": "stream",
     "text": [
      "\n",
      "CREATE TABLE orders (\n",
      "\t`Row_ID` INTEGER, \n",
      "\t`Order_ID` TEXT, \n",
      "\t`Order_Date` TEXT, \n",
      "\t`Ship_Date` TEXT, \n",
      "\t`Ship_Mode` TEXT, \n",
      "\t`Customer_ID` TEXT, \n",
      "\t`Customer_Name` TEXT, \n",
      "\t`Segment` TEXT, \n",
      "\t`Country` TEXT, \n",
      "\t`City` TEXT, \n",
      "\t`State` TEXT, \n",
      "\t`Postal_Code` TEXT, \n",
      "\t`Region` TEXT, \n",
      "\t`Product_ID` TEXT, \n",
      "\t`Category` TEXT, \n",
      "\t`Sub_Category` TEXT, \n",
      "\t`Product_Name` TEXT, \n",
      "\t`Sales` DOUBLE, \n",
      "\t`Quantity` INTEGER, \n",
      "\t`Discount` DOUBLE, \n",
      "\t`Profit` DOUBLE\n",
      ")ENGINE=InnoDB COLLATE utf8mb4_0900_ai_ci DEFAULT CHARSET=utf8mb4\n",
      "\n",
      "/*\n",
      "3 rows from orders table:\n",
      "Row_ID\tOrder_ID\tOrder_Date\tShip_Date\tShip_Mode\tCustomer_ID\tCustomer_Name\tSegment\tCountry\tCity\tState\tPostal_Code\tRegion\tProduct_ID\tCategory\tSub_Category\tProduct_Name\tSales\tQuantity\tDiscount\tProfit\n",
      "1\tCA-2020-152156\t11/8/2020\t11/11/2020\tSecond Class\tCG-12520\tClaire Gute\tConsumer\tUnited States\tHenderson\tKentucky\t42420\tSouth\tFUR-BO-10001798\tFurniture\tBookcases\tBush Somerset Collection Bookcase\t261.9600000000\t2\t0E-10\t41.9136000000\n",
      "2\tCA-2020-152156\t11/8/2020\t11/11/2020\tSecond Class\tCG-12520\tClaire Gute\tConsumer\tUnited States\tHenderson\tKentucky\t42420\tSouth\tFUR-CH-10000454\tFurniture\tChairs\tHon Deluxe Fabric Upholstered Stacking Chairs, Rounded Back\t731.9400000000\t3\t0E-10\t219.5820000000\n",
      "3\tCA-2020-138688\t6/12/2020\t6/16/2020\tSecond Class\tDV-13045\tDarrin Van Huff\tCorporate\tUnited States\tLos Angeles\tCalifornia\t90036\tWest\tOFF-LA-10000240\tOffice Supplies\tLabels\tSelf-Adhesive Address Labels for Typewriters by Universal\t14.6200000000\t2\t0E-10\t6.8714000000\n",
      "*/\n",
      "\n",
      "\n",
      "CREATE TABLE people (\n",
      "\t`Regional_Manager` TEXT, \n",
      "\t`Region` TEXT\n",
      ")ENGINE=InnoDB COLLATE utf8mb4_0900_ai_ci DEFAULT CHARSET=utf8mb4\n",
      "\n",
      "/*\n",
      "3 rows from people table:\n",
      "Regional_Manager\tRegion\n",
      "Sadie Pawthorne\tWest\n",
      "Chuck Magee\tEast\n",
      "Roxanne Rodriguez\tCentral\n",
      "*/\n",
      "\n",
      "\n",
      "CREATE TABLE returns (\n",
      "\t`Returned` TEXT, \n",
      "\t`Order_ID` TEXT\n",
      ")ENGINE=InnoDB COLLATE utf8mb4_0900_ai_ci DEFAULT CHARSET=utf8mb4\n",
      "\n",
      "/*\n",
      "3 rows from returns table:\n",
      "Returned\tOrder_ID\n",
      "Yes\tCA-2018-100762\n",
      "Yes\tCA-2018-100762\n",
      "Yes\tCA-2018-100762\n",
      "*/\n"
     ]
    }
   ],
   "source": [
    "#connecting to SQL database:Superstore database\n",
    "from langchain.utilities import SQLDatabase\n",
    "\n",
    "#db_password: Do Not Use Special Characters\n",
    "db_user = \"root\"\n",
    "db_password = \"root1234\"\n",
    "db_host = \"localhost\"\n",
    "db_name = \"sample_superstore\"\n",
    "\n",
    "db = SQLDatabase.from_uri(f\"mysql+pymysql://{db_user}:{db_password}@{db_host}/{db_name}\",sample_rows_in_table_info=3)\n",
    "\n",
    "print(db.table_info)"
   ]
  },
  {
   "cell_type": "code",
   "execution_count": 51,
   "metadata": {},
   "outputs": [],
   "source": [
    "#using SQL chain\n",
    "from langchain_experimental.sql import SQLDatabaseChain\n",
    "\n",
    "#Put verbose=true to view the generated SQL statements\n",
    "db_chain = SQLDatabaseChain.from_llm(llm,db,verbose=True,return_direct=True)"
   ]
  },
  {
   "cell_type": "markdown",
   "metadata": {},
   "source": [
    "### Exploring the Answers without adding Few Shot Learning"
   ]
  },
  {
   "cell_type": "code",
   "execution_count": 58,
   "metadata": {},
   "outputs": [
    {
     "name": "stdout",
     "output_type": "stream",
     "text": [
      "\n",
      "\n",
      "\u001b[1m> Entering new SQLDatabaseChain chain...\u001b[0m\n",
      "what is the total number of returns made by the store\n",
      "SQLQuery:\u001b[32;1m\u001b[1;3mSELECT COUNT(*) FROM returns\u001b[0m\n",
      "SQLResult: \u001b[33;1m\u001b[1;3m[(800,)]\u001b[0m\n",
      "\u001b[1m> Finished chain.\u001b[0m\n"
     ]
    }
   ],
   "source": [
    "qns1 = db_chain(\"what is the total number of returns made by the store\")"
   ]
  },
  {
   "cell_type": "code",
   "execution_count": 59,
   "metadata": {},
   "outputs": [
    {
     "data": {
      "text/plain": [
       "{'query': 'what is the total number of returns made by the store',\n",
       " 'result': '[(800,)]'}"
      ]
     },
     "execution_count": 59,
     "metadata": {},
     "output_type": "execute_result"
    }
   ],
   "source": [
    "qns1"
   ]
  },
  {
   "cell_type": "markdown",
   "metadata": {},
   "source": [
    "Need to be more specific to differentiate between the number of products returned and the number of orders returned. Let's check if it can tell the difference."
   ]
  },
  {
   "cell_type": "code",
   "execution_count": 24,
   "metadata": {},
   "outputs": [
    {
     "name": "stdout",
     "output_type": "stream",
     "text": [
      "\n",
      "\n",
      "\u001b[1m> Entering new SQLDatabaseChain chain...\u001b[0m\n",
      "what is the total number of orders returned to the store\n",
      "SQLQuery:\u001b[32;1m\u001b[1;3mSELECT COUNT(*) FROM returns\u001b[0m\n",
      "SQLResult: \u001b[33;1m\u001b[1;3m[(800,)]\u001b[0m\n",
      "Answer:\u001b[32;1m\u001b[1;3m800\u001b[0m\n",
      "\u001b[1m> Finished chain.\u001b[0m\n"
     ]
    }
   ],
   "source": [
    "qns1 = db_chain.run(\"what is the total number of orders returned to the store\")"
   ]
  },
  {
   "cell_type": "code",
   "execution_count": 25,
   "metadata": {},
   "outputs": [
    {
     "name": "stdout",
     "output_type": "stream",
     "text": [
      "\n",
      "\n",
      "\u001b[1m> Entering new SQLDatabaseChain chain...\u001b[0m\n",
      "what is the total number of products returned to the store\n",
      "SQLQuery:\u001b[32;1m\u001b[1;3mSELECT COUNT(*) AS Total_Products_Returned FROM returns\u001b[0m\n",
      "SQLResult: \u001b[33;1m\u001b[1;3m[(800,)]\u001b[0m\n",
      "Answer:\u001b[32;1m\u001b[1;3m800\u001b[0m\n",
      "\u001b[1m> Finished chain.\u001b[0m\n"
     ]
    }
   ],
   "source": [
    "qns1 = db_chain.run(\"what is the total number of products returned to the store\")"
   ]
  },
  {
   "cell_type": "markdown",
   "metadata": {},
   "source": [
    "Seems it can't tell the difference. This is an example of a query that should be used in few shot learning"
   ]
  },
  {
   "cell_type": "code",
   "execution_count": 26,
   "metadata": {},
   "outputs": [
    {
     "name": "stdout",
     "output_type": "stream",
     "text": [
      "\n",
      "\n",
      "\u001b[1m> Entering new SQLDatabaseChain chain...\u001b[0m\n",
      "what is the total sales made by the store\n",
      "SQLQuery:\u001b[32;1m\u001b[1;3mSELECT SUM(Sales) FROM orders\u001b[0m\n",
      "SQLResult: \u001b[33;1m\u001b[1;3m[(2272449.8562999545,)]\u001b[0m\n",
      "Answer:\u001b[32;1m\u001b[1;3m2272449.8562999545\u001b[0m\n",
      "\u001b[1m> Finished chain.\u001b[0m\n"
     ]
    }
   ],
   "source": [
    "qns1 = db_chain.run(\"what is the total sales made by the store\")"
   ]
  },
  {
   "cell_type": "code",
   "execution_count": 32,
   "metadata": {},
   "outputs": [
    {
     "name": "stdout",
     "output_type": "stream",
     "text": [
      "\n",
      "\n",
      "\u001b[1m> Entering new SQLDatabaseChain chain...\u001b[0m\n",
      "which state made the highest sales\n",
      "SQLQuery:\u001b[32;1m\u001b[1;3mSELECT State, SUM(Sales) FROM orders GROUP BY State ORDER BY SUM(Sales) DESC LIMIT 1\u001b[0m\n",
      "SQLResult: \u001b[33;1m\u001b[1;3m[('California', 450567.5915000007)]\u001b[0m\n",
      "Answer:\u001b[32;1m\u001b[1;3mCalifornia\u001b[0m\n",
      "\u001b[1m> Finished chain.\u001b[0m\n"
     ]
    }
   ],
   "source": [
    "qns1 = db_chain.run(\"which state made the highest sales\")"
   ]
  },
  {
   "cell_type": "code",
   "execution_count": 34,
   "metadata": {},
   "outputs": [
    {
     "name": "stdout",
     "output_type": "stream",
     "text": [
      "\n",
      "\n",
      "\u001b[1m> Entering new SQLDatabaseChain chain...\u001b[0m\n",
      "Which state made the highest sales and by how much\n",
      "SQLQuery:\u001b[32;1m\u001b[1;3mSELECT State, SUM(Sales) AS Sales FROM orders GROUP BY State ORDER BY Sales DESC LIMIT 1\u001b[0m\n",
      "SQLResult: \u001b[33;1m\u001b[1;3m[('California', 450567.5915000007)]\u001b[0m\n",
      "Answer:\u001b[32;1m\u001b[1;3mCalifornia: 450567.5915000007\u001b[0m\n",
      "\u001b[1m> Finished chain.\u001b[0m\n"
     ]
    }
   ],
   "source": [
    "qns1 = db_chain.run(\"Which state made the highest sales and by how much\")"
   ]
  },
  {
   "cell_type": "code",
   "execution_count": 35,
   "metadata": {},
   "outputs": [
    {
     "name": "stdout",
     "output_type": "stream",
     "text": [
      "\n",
      "\n",
      "\u001b[1m> Entering new SQLDatabaseChain chain...\u001b[0m\n",
      "Which region the made the highest sales and by how much\n",
      "SQLQuery:\u001b[32;1m\u001b[1;3mSELECT \n",
      "  Region,\n",
      "  SUM(Sales) AS TotalSales\n",
      "FROM orders\n",
      "GROUP BY Region\n",
      "ORDER BY TotalSales DESC\n",
      "LIMIT 1\u001b[0m\n",
      "SQLResult: \u001b[33;1m\u001b[1;3m[('West', 713471.3445000004)]\u001b[0m\n",
      "Answer:\u001b[32;1m\u001b[1;3mWest with 713471.3445000004\u001b[0m\n",
      "\u001b[1m> Finished chain.\u001b[0m\n"
     ]
    }
   ],
   "source": [
    "qns1 = db_chain.run(\"Which region the made the highest sales and by how much\")"
   ]
  },
  {
   "cell_type": "code",
   "execution_count": 60,
   "metadata": {},
   "outputs": [
    {
     "name": "stdout",
     "output_type": "stream",
     "text": [
      "\n",
      "\n",
      "\u001b[1m> Entering new SQLDatabaseChain chain...\u001b[0m\n",
      "How many orders were placed in each city?\n",
      "SQLQuery:\u001b[32;1m\u001b[1;3mSELECT City, COUNT(*) AS Num_Orders FROM orders GROUP BY City ORDER BY Num_Orders DESC\u001b[0m\n",
      "SQLResult: \u001b[33;1m\u001b[1;3m[('New York City', 893), ('Los Angeles', 731), ('Philadelphia', 507), ('San Francisco', 494), ('Seattle', 412), ('Houston', 370), ('Chicago', 301), ('Columbus', 214), ('San Diego', 166), ('Springfield', 158), ('Dallas', 149), ('Jacksonville', 121), ('Detroit', 111), ('Newark', 93), ('Richmond', 88), ('Jackson', 79), ('Columbia', 78), ('Aurora', 67), ('Phoenix', 61), ('San Antonio', 59), ('Arlington', 59), ('Long Beach', 58), ('Louisville', 57), ('Miami', 55), ('Charlotte', 52), ('Henderson', 51), ('Rochester', 51), ('Lakewood', 48), ('Milwaukee', 45), ('Lawrence', 44), ('Fairfield', 43), ('Denver', 43), ('Lancaster', 43), ('Cleveland', 42), ('Baltimore', 42), ('Pasadena', 41), ('San Jose', 41), ('Fayetteville', 40), ('Salem', 40), ('Atlanta', 39), ('Austin', 38), ('Wilmington', 35), ('Tampa', 35), ('Huntsville', 35), ('Decatur', 34), ('Franklin', 34), ('Concord', 31), ('Toledo', 31), ('Tucson', 30), ('Oceanside', 30), ('Providence', 30), ('Lafayette', 30), ('Clinton', 29), ('Nashville', 29), ('Troy', 28), ('Mesa', 28), ('Fort Worth', 27), ('Memphis', 27), ('Omaha', 27), ('Anaheim', 26), ('Oakland', 26), ('Tulsa', 26), ('Roseville', 25), ('Colorado Springs', 25), ('Fresno', 25), ('Portland', 24), ('Burlington', 24), ('Minneapolis', 23), ('Peoria', 23), ('Auburn', 23), ('Smyrna', 23), ('Indianapolis', 23), ('Knoxville', 23), ('Little Rock', 23), ('Everett', 22), ('Raleigh', 22), ('Oklahoma City', 22), ('Monroe', 21), ('Akron', 21), ('Lakeland', 21), ('Florence', 21), ('Glendale', 21), ('Quincy', 19), ('El Paso', 19), ('Paterson', 19), ('Marion', 19), ('Dover', 18), ('Roswell', 18), ('Mcallen', 18), ('Des Moines', 17), ('Hialeah', 17), ('Chesapeake', 17), ('Redlands', 16), ('Brentwood', 16), ('Cincinnati', 16), ('Chester', 16), ('Virginia Beach', 16), ('North Las Vegas', 16), ('Tallahassee', 16), ('Bakersfield', 16), ('Fort Lauderdale', 15), ('Bloomington', 15), ('Lakeville', 15), ('Lowell', 15), ('Yonkers', 15), ('Westminster', 15), ('Carrollton', 15), ('Plano', 15), ('Cranston', 15), ('Gilbert', 14), ('Dublin', 14), ('Inglewood', 14), ('Saint Petersburg', 14), ('Pembroke Pines', 14), ('Edmonds', 14), ('Santa Ana', 14), ('Alexandria', 14), ('Albuquerque', 14), ('Grand Prairie', 13), ('Las Vegas', 13), ('Laredo', 13), ('Plainfield', 13), ('Trenton', 13), ('Riverside', 13), ('Greensboro', 13), ('Sandy Springs', 13), ('Westland', 12), ('Bristol', 12), ('Scottsdale', 12), ('Tempe', 12), ('Kent', 12), ('Midland', 12), ('Sacramento', 12), ('Carlsbad', 11), ('Murfreesboro', 11), ('Manchester', 11), ('Costa Mesa', 11), ('Rockford', 11), ('Jonesboro', 11), ('Mobile', 11), ('Johnson City', 11), ('Newport News', 11), ('Orlando', 11), ('Hempstead', 11), ('Plantation', 11), ('Hollywood', 11), ('Hampton', 11), ('Waterbury', 11), ('Madison', 10), ('Amarillo', 10), ('Montgomery', 10), ('Waynesboro', 10), ('Washington', 10), ('Buffalo', 10), ('Boynton Beach', 10), ('Freeport', 10), ('Parma', 10), ('Suffolk', 10), ('Redmond', 10), ('Meriden', 10), ('Bowling Green', 10), ('Chattanooga', 10), ('Moreno Valley', 10), ('Chico', 10), ('Orem', 9), ('Durham', 9), ('Medina', 9), ('Belleville', 9), ('La Porte', 9), ('Greenville', 9), ('Middletown', 9), ('Provo', 9), ('Watertown', 9), ('Kenosha', 9), ('San Bernardino', 9), ('Sioux Falls', 9), ('Apple Valley', 9), ('Thornton', 9), ('Superior', 9), ('Hattiesburg', 9), ('Saint Charles', 9), ('Fremont', 8), ('Naperville', 8), ('Eagan', 8), ('New Rochelle', 8), ('Parker', 8), ('Mount Vernon', 8), ('Salinas', 8), ('Lansing', 8), ('Coral Springs', 8), ('Pueblo', 8), ('Lorain', 8), ('Irving', 8), ('Vineland', 8), ('Skokie', 8), ('Corpus Christi', 8), ('Redondo Beach', 8), ('Athens', 8), ('Georgetown', 8), ('Santa Barbara', 8), ('Utica', 8), ('Oxnard', 8), ('Morristown', 7), ('Great Falls', 7), ('Asheville', 7), ('Round Rock', 7), ('Brownsville', 7), ('Harrisonburg', 7), ('Pomona', 7), ('Allentown', 7), ('Tigard', 7), ('Spokane', 7), ('Apopka', 7), ('Perth Amboy', 7), ('Southaven', 7), ('Fort Collins', 7), ('Clarksville', 7), ('Wheeling', 7), ('Highland Park', 7), ('Revere', 7), ('Miramar', 7), ('Wichita', 7), ('Fargo', 7), ('Danville', 7), ('Marietta', 7), ('Chandler', 7), ('Westfield', 6), ('Saginaw', 6), ('Hackensack', 6), ('Huntington Beach', 6), ('Vallejo', 6), ('Cary', 6), ('Bossier City', 6), ('Macon', 6), ('Pleasant Grove', 6), ('Bellevue', 6), ('South Bend', 6), ('Lubbock', 6), ('Sunnyvale', 6), ('Passaic', 6), ('Orange', 6), ('Eau Claire', 6), ('Bolingbrook', 6), ('Grand Rapids', 6), ('Overland Park', 6), ('Dearborn Heights', 6), ('Port Arthur', 6), ('Mentor', 6), ('Rome', 6), ('Avondale', 6), ('Pasco', 6), ('League City', 6), ('Waco', 6), ('Pocatello', 6), ('Milford', 6), ('Lake Forest', 6), ('Des Plaines', 6), ('Cambridge', 6), ('Eugene', 6), ('Bryan', 6), ('West Jordan', 5), ('Harlingen', 5), ('Warwick', 5), ('Mission Viejo', 5), ('Vancouver', 5), ('Tyler', 5), ('Palm Coast', 5), ('Olympia', 5), ('Encinitas', 5), ('Rockville', 5), ('Deltona', 5), ('Murray', 5), ('New Bedford', 5), ('Olathe', 5), ('Reading', 5), ('Broomfield', 5), ('Mesquite', 5), ('York', 5), ('Salt Lake City', 5), ('Bangor', 5), ('Thousand Oaks', 5), ('Woodstock', 5), ('Gresham', 5), ('Carol Stream', 5), ('Broken Arrow', 5), ('La Crosse', 5), ('Logan', 5), ('Bethlehem', 5), ('Ann Arbor', 5), ('Hendersonville', 5), ('Wilson', 5), ('Beaumont', 5), ('Camarillo', 5), ('Garden City', 5), ('East Orange', 5), ('New Albany', 4), ('Hamilton', 4), ('Santa Clara', 4), ('Tamarac', 4), ('Arvada', 4), ('Hesperia', 4), ('Gastonia', 4), ('Dearborn', 4), ('Evanston', 4), ('Garland', 4), ('Norwich', 4), ('Reno', 4), ('Coppell', 4), ('Allen', 4), ('Muskogee', 4), ('Leominster', 4), ('Rancho Cucamonga', 4), ('Saint Louis', 4), ('San Angelo', 4), ('Elmhurst', 4), ('Haltom City', 4), ('Hot Springs', 4), ('Hoover', 4), ('Noblesville', 4), ('Stockton', 4), ('Pharr', 4), ('Meridian', 4), ('Maple Grove', 4), ('Visalia', 4), ('Temecula', 4), ('Odessa', 4), ('Woonsocket', 4), ('Bedford', 4), ('Covington', 4), ('Boise', 4), ('Daytona Beach', 4), ('Lawton', 4), ('Lewiston', 4), ('Yuma', 4), ('Wausau', 4), ('Loveland', 4), ('Hillsboro', 4), ('Morgan Hill', 4), ('Sheboygan', 4), ('Andover', 4), ('San Marcos', 4), ('Urbandale', 3), ('Taylor', 3), ('Canton', 3), ('Park Ridge', 3), ('Green Bay', 3), ('Sierra Vista', 3), ('Farmington', 3), ('Torrance', 3), ('Boca Raton', 3), ('Homestead', 3), ('Cuyahoga Falls', 3), ('Escondido', 3), ('Gulfport', 3), ('Niagara Falls', 3), ('Thomasville', 3), ('Laguna Niguel', 3), ('Bayonne', 3), ('College Station', 3), ('Manteca', 3), ('Lincoln Park', 3), ('Malden', 3), ('Bellingham', 3), ('Las Cruces', 3), ('Pompano Beach', 3), ('Lake Charles', 3), ('Sterling Heights', 3), ('Woodland', 3), ('Pearland', 3), ('Saint Cloud', 3), ('Port Saint Lucie', 3), ('Edinburg', 3), ('Greenwood', 3), ('The Colony', 3), ('San Gabriel', 3), ('Oak Park', 3), ('Helena', 3), ('Woodbury', 3), ('Draper', 3), ('Holland', 3), ('Lebanon', 3), ('Longview', 3), ('Beverly', 3), ('Renton', 3), ('Delray Beach', 3), ('Texas City', 3), ('West Palm Beach', 3), ('Burbank', 3), ('Modesto', 3), ('East Point', 3), ('Oswego', 3), ('Mason', 3), ('Richardson', 2), ('Saint Paul', 2), ('Independence', 2), ('Edmond', 2), ('Norman', 2), ('Gladstone', 2), ('Marysville', 2), ('Grove City', 2), ('Warner Robins', 2), ('Cottage Grove', 2), ('New Brunswick', 2), ('Royal Oak', 2), ('Bridgeton', 2), ('Appleton', 2), ('Grapevine', 2), ('Charlottesville', 2), ('Bozeman', 2), ('Moorhead', 2), ('New Castle', 2), ('Sparks', 2), ('North Charleston', 2), ('Jamestown', 2), ('Mishawaka', 2), ('Englewood', 2), ('Frisco', 2), ('Mount Pleasant', 2), ('Dubuque', 2), ('Santa Fe', 2), ('North Miami', 2), ('West Allis', 2), ('Texarkana', 2), ('Medford', 2), ('Bullhead City', 2), ('Elkhart', 2), ('Gaithersburg', 2), ('Lehi', 2), ('Tuscaloosa', 2), ('Frankfort', 2), ('Clovis', 2), ('Cedar Hill', 2), ('La Mesa', 2), ('Buffalo Grove', 2), ('Owensboro', 2), ('Caldwell', 2), ('Kenner', 2), ('Nashua', 2), ('Rio Rancho', 2), ('El Cajon', 2), ('Longmont', 2), ('Clifton', 2), ('Rapid City', 2), ('Shelton', 2), ('Sanford', 2), ('Greeley', 2), ('Mansfield', 2), ('Twin Falls', 2), ('Coral Gables', 2), ('Marlborough', 2), ('Laurel', 2), ('Pine Bluff', 2), ('Coon Rapids', 2), ('San Clemente', 2), ('Melbourne', 1), ('Orland Park', 1), ('Whittier', 1), ('Chapel Hill', 1), ('Lindenhurst', 1), ('Rochester Hills', 1), ('Lake Elsinore', 1), ('Linden', 1), ('Murrieta', 1), ('Jefferson City', 1), ('Saint Peters', 1), ('Antioch', 1), ('Cedar Rapids', 1), ('Pico Rivera', 1), ('Keller', 1), ('Port Orange', 1), ('Missoula', 1), ('Ontario', 1), ('Ormond Beach', 1), ('Littleton', 1), ('Holyoke', 1), ('Coachella', 1), ('La Quinta', 1), ('Summerville', 1), ('Vacaville', 1), ('Waukesha', 1), ('Billings', 1), ('Missouri City', 1), ('San Mateo', 1), ('Yucaipa', 1), ('Conroe', 1), ('Tinley Park', 1), ('Hickory', 1), ('Rock Hill', 1), ('Manhattan', 1), ('Altoona', 1), ('Champaign', 1), ('Baytown', 1), ('Deer Park', 1), ('Iowa City', 1), ('Citrus Heights', 1), ('Portage', 1), ('Margate', 1), ('Pensacola', 1), ('Kirkwood', 1), ('Grand Island', 1), ('Rogers', 1), ('Jupiter', 1), ('Norfolk', 1), ('Redding', 1), ('Conway', 1), ('Cheyenne', 1), ('Redwood City', 1), ('Chula Vista', 1), ('Santa Maria', 1), ('Waterloo', 1), ('Palatine', 1), ('Glenview', 1), ('Commerce City', 1), ('Goldsboro', 1), ('Montebello', 1), ('Abilene', 1), ('Normal', 1), ('Atlantic City', 1), ('Davis', 1), ('Kissimmee', 1), ('Danbury', 1), ('Elyria', 1), ('Romeoville', 1), ('Aberdeen', 1), ('Hagerstown', 1), ('Arlington Heights', 1), ('San Luis Obispo', 1), ('Springdale', 1), ('Lodi', 1)]\u001b[0m\n",
      "\u001b[1m> Finished chain.\u001b[0m\n"
     ]
    }
   ],
   "source": [
    "qns1 = db_chain(\"How many orders were placed in each city?\")"
   ]
  },
  {
   "cell_type": "code",
   "execution_count": 61,
   "metadata": {},
   "outputs": [
    {
     "data": {
      "text/plain": [
       "{'query': 'How many orders were placed in each city?',\n",
       " 'result': \"[('New York City', 893), ('Los Angeles', 731), ('Philadelphia', 507), ('San Francisco', 494), ('Seattle', 412), ('Houston', 370), ('Chicago', 301), ('Columbus', 214), ('San Diego', 166), ('Springfield', 158), ('Dallas', 149), ('Jacksonville', 121), ('Detroit', 111), ('Newark', 93), ('Richmond', 88), ('Jackson', 79), ('Columbia', 78), ('Aurora', 67), ('Phoenix', 61), ('San Antonio', 59), ('Arlington', 59), ('Long Beach', 58), ('Louisville', 57), ('Miami', 55), ('Charlotte', 52), ('Henderson', 51), ('Rochester', 51), ('Lakewood', 48), ('Milwaukee', 45), ('Lawrence', 44), ('Fairfield', 43), ('Denver', 43), ('Lancaster', 43), ('Cleveland', 42), ('Baltimore', 42), ('Pasadena', 41), ('San Jose', 41), ('Fayetteville', 40), ('Salem', 40), ('Atlanta', 39), ('Austin', 38), ('Wilmington', 35), ('Tampa', 35), ('Huntsville', 35), ('Decatur', 34), ('Franklin', 34), ('Concord', 31), ('Toledo', 31), ('Tucson', 30), ('Oceanside', 30), ('Providence', 30), ('Lafayette', 30), ('Clinton', 29), ('Nashville', 29), ('Troy', 28), ('Mesa', 28), ('Fort Worth', 27), ('Memphis', 27), ('Omaha', 27), ('Anaheim', 26), ('Oakland', 26), ('Tulsa', 26), ('Roseville', 25), ('Colorado Springs', 25), ('Fresno', 25), ('Portland', 24), ('Burlington', 24), ('Minneapolis', 23), ('Peoria', 23), ('Auburn', 23), ('Smyrna', 23), ('Indianapolis', 23), ('Knoxville', 23), ('Little Rock', 23), ('Everett', 22), ('Raleigh', 22), ('Oklahoma City', 22), ('Monroe', 21), ('Akron', 21), ('Lakeland', 21), ('Florence', 21), ('Glendale', 21), ('Quincy', 19), ('El Paso', 19), ('Paterson', 19), ('Marion', 19), ('Dover', 18), ('Roswell', 18), ('Mcallen', 18), ('Des Moines', 17), ('Hialeah', 17), ('Chesapeake', 17), ('Redlands', 16), ('Brentwood', 16), ('Cincinnati', 16), ('Chester', 16), ('Virginia Beach', 16), ('North Las Vegas', 16), ('Tallahassee', 16), ('Bakersfield', 16), ('Fort Lauderdale', 15), ('Bloomington', 15), ('Lakeville', 15), ('Lowell', 15), ('Yonkers', 15), ('Westminster', 15), ('Carrollton', 15), ('Plano', 15), ('Cranston', 15), ('Gilbert', 14), ('Dublin', 14), ('Inglewood', 14), ('Saint Petersburg', 14), ('Pembroke Pines', 14), ('Edmonds', 14), ('Santa Ana', 14), ('Alexandria', 14), ('Albuquerque', 14), ('Grand Prairie', 13), ('Las Vegas', 13), ('Laredo', 13), ('Plainfield', 13), ('Trenton', 13), ('Riverside', 13), ('Greensboro', 13), ('Sandy Springs', 13), ('Westland', 12), ('Bristol', 12), ('Scottsdale', 12), ('Tempe', 12), ('Kent', 12), ('Midland', 12), ('Sacramento', 12), ('Carlsbad', 11), ('Murfreesboro', 11), ('Manchester', 11), ('Costa Mesa', 11), ('Rockford', 11), ('Jonesboro', 11), ('Mobile', 11), ('Johnson City', 11), ('Newport News', 11), ('Orlando', 11), ('Hempstead', 11), ('Plantation', 11), ('Hollywood', 11), ('Hampton', 11), ('Waterbury', 11), ('Madison', 10), ('Amarillo', 10), ('Montgomery', 10), ('Waynesboro', 10), ('Washington', 10), ('Buffalo', 10), ('Boynton Beach', 10), ('Freeport', 10), ('Parma', 10), ('Suffolk', 10), ('Redmond', 10), ('Meriden', 10), ('Bowling Green', 10), ('Chattanooga', 10), ('Moreno Valley', 10), ('Chico', 10), ('Orem', 9), ('Durham', 9), ('Medina', 9), ('Belleville', 9), ('La Porte', 9), ('Greenville', 9), ('Middletown', 9), ('Provo', 9), ('Watertown', 9), ('Kenosha', 9), ('San Bernardino', 9), ('Sioux Falls', 9), ('Apple Valley', 9), ('Thornton', 9), ('Superior', 9), ('Hattiesburg', 9), ('Saint Charles', 9), ('Fremont', 8), ('Naperville', 8), ('Eagan', 8), ('New Rochelle', 8), ('Parker', 8), ('Mount Vernon', 8), ('Salinas', 8), ('Lansing', 8), ('Coral Springs', 8), ('Pueblo', 8), ('Lorain', 8), ('Irving', 8), ('Vineland', 8), ('Skokie', 8), ('Corpus Christi', 8), ('Redondo Beach', 8), ('Athens', 8), ('Georgetown', 8), ('Santa Barbara', 8), ('Utica', 8), ('Oxnard', 8), ('Morristown', 7), ('Great Falls', 7), ('Asheville', 7), ('Round Rock', 7), ('Brownsville', 7), ('Harrisonburg', 7), ('Pomona', 7), ('Allentown', 7), ('Tigard', 7), ('Spokane', 7), ('Apopka', 7), ('Perth Amboy', 7), ('Southaven', 7), ('Fort Collins', 7), ('Clarksville', 7), ('Wheeling', 7), ('Highland Park', 7), ('Revere', 7), ('Miramar', 7), ('Wichita', 7), ('Fargo', 7), ('Danville', 7), ('Marietta', 7), ('Chandler', 7), ('Westfield', 6), ('Saginaw', 6), ('Hackensack', 6), ('Huntington Beach', 6), ('Vallejo', 6), ('Cary', 6), ('Bossier City', 6), ('Macon', 6), ('Pleasant Grove', 6), ('Bellevue', 6), ('South Bend', 6), ('Lubbock', 6), ('Sunnyvale', 6), ('Passaic', 6), ('Orange', 6), ('Eau Claire', 6), ('Bolingbrook', 6), ('Grand Rapids', 6), ('Overland Park', 6), ('Dearborn Heights', 6), ('Port Arthur', 6), ('Mentor', 6), ('Rome', 6), ('Avondale', 6), ('Pasco', 6), ('League City', 6), ('Waco', 6), ('Pocatello', 6), ('Milford', 6), ('Lake Forest', 6), ('Des Plaines', 6), ('Cambridge', 6), ('Eugene', 6), ('Bryan', 6), ('West Jordan', 5), ('Harlingen', 5), ('Warwick', 5), ('Mission Viejo', 5), ('Vancouver', 5), ('Tyler', 5), ('Palm Coast', 5), ('Olympia', 5), ('Encinitas', 5), ('Rockville', 5), ('Deltona', 5), ('Murray', 5), ('New Bedford', 5), ('Olathe', 5), ('Reading', 5), ('Broomfield', 5), ('Mesquite', 5), ('York', 5), ('Salt Lake City', 5), ('Bangor', 5), ('Thousand Oaks', 5), ('Woodstock', 5), ('Gresham', 5), ('Carol Stream', 5), ('Broken Arrow', 5), ('La Crosse', 5), ('Logan', 5), ('Bethlehem', 5), ('Ann Arbor', 5), ('Hendersonville', 5), ('Wilson', 5), ('Beaumont', 5), ('Camarillo', 5), ('Garden City', 5), ('East Orange', 5), ('New Albany', 4), ('Hamilton', 4), ('Santa Clara', 4), ('Tamarac', 4), ('Arvada', 4), ('Hesperia', 4), ('Gastonia', 4), ('Dearborn', 4), ('Evanston', 4), ('Garland', 4), ('Norwich', 4), ('Reno', 4), ('Coppell', 4), ('Allen', 4), ('Muskogee', 4), ('Leominster', 4), ('Rancho Cucamonga', 4), ('Saint Louis', 4), ('San Angelo', 4), ('Elmhurst', 4), ('Haltom City', 4), ('Hot Springs', 4), ('Hoover', 4), ('Noblesville', 4), ('Stockton', 4), ('Pharr', 4), ('Meridian', 4), ('Maple Grove', 4), ('Visalia', 4), ('Temecula', 4), ('Odessa', 4), ('Woonsocket', 4), ('Bedford', 4), ('Covington', 4), ('Boise', 4), ('Daytona Beach', 4), ('Lawton', 4), ('Lewiston', 4), ('Yuma', 4), ('Wausau', 4), ('Loveland', 4), ('Hillsboro', 4), ('Morgan Hill', 4), ('Sheboygan', 4), ('Andover', 4), ('San Marcos', 4), ('Urbandale', 3), ('Taylor', 3), ('Canton', 3), ('Park Ridge', 3), ('Green Bay', 3), ('Sierra Vista', 3), ('Farmington', 3), ('Torrance', 3), ('Boca Raton', 3), ('Homestead', 3), ('Cuyahoga Falls', 3), ('Escondido', 3), ('Gulfport', 3), ('Niagara Falls', 3), ('Thomasville', 3), ('Laguna Niguel', 3), ('Bayonne', 3), ('College Station', 3), ('Manteca', 3), ('Lincoln Park', 3), ('Malden', 3), ('Bellingham', 3), ('Las Cruces', 3), ('Pompano Beach', 3), ('Lake Charles', 3), ('Sterling Heights', 3), ('Woodland', 3), ('Pearland', 3), ('Saint Cloud', 3), ('Port Saint Lucie', 3), ('Edinburg', 3), ('Greenwood', 3), ('The Colony', 3), ('San Gabriel', 3), ('Oak Park', 3), ('Helena', 3), ('Woodbury', 3), ('Draper', 3), ('Holland', 3), ('Lebanon', 3), ('Longview', 3), ('Beverly', 3), ('Renton', 3), ('Delray Beach', 3), ('Texas City', 3), ('West Palm Beach', 3), ('Burbank', 3), ('Modesto', 3), ('East Point', 3), ('Oswego', 3), ('Mason', 3), ('Richardson', 2), ('Saint Paul', 2), ('Independence', 2), ('Edmond', 2), ('Norman', 2), ('Gladstone', 2), ('Marysville', 2), ('Grove City', 2), ('Warner Robins', 2), ('Cottage Grove', 2), ('New Brunswick', 2), ('Royal Oak', 2), ('Bridgeton', 2), ('Appleton', 2), ('Grapevine', 2), ('Charlottesville', 2), ('Bozeman', 2), ('Moorhead', 2), ('New Castle', 2), ('Sparks', 2), ('North Charleston', 2), ('Jamestown', 2), ('Mishawaka', 2), ('Englewood', 2), ('Frisco', 2), ('Mount Pleasant', 2), ('Dubuque', 2), ('Santa Fe', 2), ('North Miami', 2), ('West Allis', 2), ('Texarkana', 2), ('Medford', 2), ('Bullhead City', 2), ('Elkhart', 2), ('Gaithersburg', 2), ('Lehi', 2), ('Tuscaloosa', 2), ('Frankfort', 2), ('Clovis', 2), ('Cedar Hill', 2), ('La Mesa', 2), ('Buffalo Grove', 2), ('Owensboro', 2), ('Caldwell', 2), ('Kenner', 2), ('Nashua', 2), ('Rio Rancho', 2), ('El Cajon', 2), ('Longmont', 2), ('Clifton', 2), ('Rapid City', 2), ('Shelton', 2), ('Sanford', 2), ('Greeley', 2), ('Mansfield', 2), ('Twin Falls', 2), ('Coral Gables', 2), ('Marlborough', 2), ('Laurel', 2), ('Pine Bluff', 2), ('Coon Rapids', 2), ('San Clemente', 2), ('Melbourne', 1), ('Orland Park', 1), ('Whittier', 1), ('Chapel Hill', 1), ('Lindenhurst', 1), ('Rochester Hills', 1), ('Lake Elsinore', 1), ('Linden', 1), ('Murrieta', 1), ('Jefferson City', 1), ('Saint Peters', 1), ('Antioch', 1), ('Cedar Rapids', 1), ('Pico Rivera', 1), ('Keller', 1), ('Port Orange', 1), ('Missoula', 1), ('Ontario', 1), ('Ormond Beach', 1), ('Littleton', 1), ('Holyoke', 1), ('Coachella', 1), ('La Quinta', 1), ('Summerville', 1), ('Vacaville', 1), ('Waukesha', 1), ('Billings', 1), ('Missouri City', 1), ('San Mateo', 1), ('Yucaipa', 1), ('Conroe', 1), ('Tinley Park', 1), ('Hickory', 1), ('Rock Hill', 1), ('Manhattan', 1), ('Altoona', 1), ('Champaign', 1), ('Baytown', 1), ('Deer Park', 1), ('Iowa City', 1), ('Citrus Heights', 1), ('Portage', 1), ('Margate', 1), ('Pensacola', 1), ('Kirkwood', 1), ('Grand Island', 1), ('Rogers', 1), ('Jupiter', 1), ('Norfolk', 1), ('Redding', 1), ('Conway', 1), ('Cheyenne', 1), ('Redwood City', 1), ('Chula Vista', 1), ('Santa Maria', 1), ('Waterloo', 1), ('Palatine', 1), ('Glenview', 1), ('Commerce City', 1), ('Goldsboro', 1), ('Montebello', 1), ('Abilene', 1), ('Normal', 1), ('Atlantic City', 1), ('Davis', 1), ('Kissimmee', 1), ('Danbury', 1), ('Elyria', 1), ('Romeoville', 1), ('Aberdeen', 1), ('Hagerstown', 1), ('Arlington Heights', 1), ('San Luis Obispo', 1), ('Springdale', 1), ('Lodi', 1)]\"}"
      ]
     },
     "execution_count": 61,
     "metadata": {},
     "output_type": "execute_result"
    }
   ],
   "source": [
    "qns1"
   ]
  },
  {
   "cell_type": "code",
   "execution_count": 62,
   "metadata": {},
   "outputs": [
    {
     "name": "stdout",
     "output_type": "stream",
     "text": [
      "                     0    1\n",
      "0        New York City  893\n",
      "1          Los Angeles  731\n",
      "2         Philadelphia  507\n",
      "3        San Francisco  494\n",
      "4              Seattle  412\n",
      "..                 ...  ...\n",
      "524         Hagerstown    1\n",
      "525  Arlington Heights    1\n",
      "526    San Luis Obispo    1\n",
      "527         Springdale    1\n",
      "528               Lodi    1\n",
      "\n",
      "[529 rows x 2 columns]\n"
     ]
    }
   ],
   "source": [
    "#Getting table of pandas dataframe from the result\n",
    "import pandas as pd\n",
    "result_list = eval(qns1['result'])\n",
    "df = pd.DataFrame(result_list)\n",
    "print(df)\n"
   ]
  },
  {
   "cell_type": "markdown",
   "metadata": {},
   "source": [
    "### Creating Semantic Similarity Based example selector\n",
    "- create embedding on the few_shots: Using Google Gen Embeddings\n",
    "- Store the embeddings in a vector store: FAISS index\n",
    "- Retrieve the the top most Semantically close example from the vector store"
   ]
  },
  {
   "cell_type": "code",
   "execution_count": 63,
   "metadata": {},
   "outputs": [],
   "source": [
    "#Using Google \n",
    "from langchain_google_genai import GoogleGenerativeAIEmbeddings\n",
    "embeddings=GoogleGenerativeAIEmbeddings(model='models/embedding-001')"
   ]
  },
  {
   "cell_type": "code",
   "execution_count": 64,
   "metadata": {},
   "outputs": [],
   "source": [
    "#Need to combine all values in the few shot examples into one sentence\n",
    "from few_shots import few_shots\n",
    "# creating a blob of all the sentences\n",
    "to_vectorize = [\" \".join(example.values()) for example in few_shots]"
   ]
  },
  {
   "cell_type": "code",
   "execution_count": 65,
   "metadata": {},
   "outputs": [],
   "source": [
    "#Using the FAISS vector database\n",
    "from langchain.vectorstores import FAISS #vector embeddngs\n",
    "\n",
    "#generating a vector store: \n",
    "vector_store=FAISS.from_texts(to_vectorize, embeddings, metadatas=few_shots)"
   ]
  },
  {
   "cell_type": "code",
   "execution_count": 66,
   "metadata": {},
   "outputs": [
    {
     "data": {
      "text/plain": [
       "[{'Question': 'How many orders were placed in total?',\n",
       "  'SQLQuery': 'SELECT COUNT(*) FROM orders',\n",
       "  'SQLResult': 'Result of the SQL query',\n",
       "  'Answer': 'Answer'},\n",
       " {'Question': 'How many unique customers placed orders?',\n",
       "  'SQLQuery': 'SELECT COUNT(DISTINCT Customer_ID) FROM orders',\n",
       "  'SQLResult': 'Result of the SQL query',\n",
       "  'Answer': 'Answer'}]"
      ]
     },
     "execution_count": 66,
     "metadata": {},
     "output_type": "execute_result"
    }
   ],
   "source": [
    "#Checking sematic similarity: # Helping to pull similar looking queries\n",
    "from langchain.prompts import SemanticSimilarityExampleSelector\n",
    "\n",
    "example_selector = SemanticSimilarityExampleSelector(\n",
    "    vectorstore = vector_store,\n",
    "    k=2, #number of examples\n",
    ")\n",
    "\n",
    "example_selector.select_examples({\"Question\": \"How many orders were placed from the store?\"})"
   ]
  },
  {
   "cell_type": "markdown",
   "metadata": {},
   "source": [
    "### Setting up Prompts\n",
    "\n",
    "Adding custom prompts to provide better context to the LLM"
   ]
  },
  {
   "cell_type": "code",
   "execution_count": 67,
   "metadata": {},
   "outputs": [
    {
     "name": "stdout",
     "output_type": "stream",
     "text": [
      "You are a MySQL expert. Given an input question, first create a syntactically correct MySQL query to run, then look at the results of the query and return the answer to the input question.\n",
      "Unless the user specifies in the question a specific number of examples to obtain, query for at most {top_k} results using the LIMIT clause as per MySQL. You can order the results to return the most informative data in the database.\n",
      "Never query for all columns from a table. You must query only the columns that are needed to answer the question. Wrap each column name in backticks (`) to denote them as delimited identifiers.\n",
      "Pay attention to use only the column names you can see in the tables below. Be careful to not query for columns that do not exist. Also, pay attention to which column is in which table.\n",
      "Pay attention to use CURDATE() function to get the current date, if the question involves \"today\".\n",
      "\n",
      "Use the following format:\n",
      "\n",
      "Question: Question here\n",
      "SQLQuery: SQL Query to run\n",
      "SQLResult: Result of the SQLQuery\n",
      "Answer: Final answer here\n",
      "\n",
      "\n"
     ]
    }
   ],
   "source": [
    "from langchain.prompts import FewShotPromptTemplate\n",
    "from langchain.chains.sql_database.prompt import PROMPT_SUFFIX, _mysql_prompt\n",
    "from langchain.prompts.prompt import PromptTemplate\n",
    "#adding mysql prompt\n",
    "print(_mysql_prompt)"
   ]
  },
  {
   "cell_type": "code",
   "execution_count": 68,
   "metadata": {},
   "outputs": [
    {
     "name": "stdout",
     "output_type": "stream",
     "text": [
      "Only use the following tables:\n",
      "{table_info}\n",
      "\n",
      "Question: {input}\n"
     ]
    }
   ],
   "source": [
    "print(PROMPT_SUFFIX)"
   ]
  },
  {
   "cell_type": "code",
   "execution_count": 69,
   "metadata": {},
   "outputs": [],
   "source": [
    "mysql_prompt = \"\"\"You are a MySQL expert. Given an input question, first create a syntactically correct MySQL query to run, then look at the results of the query and return the answer to the input question.\n",
    "Unless the user specifies in the question a specific number of examples to obtain, query for at most {top_k} results using the LIMIT clause as per MySQL. You can order the results to return the most informative data in the database.\n",
    "Never query for all columns from a table. You must query only the columns that are needed to answer the question. Wrap each column name in backticks (`) to denote them as delimited identifiers.\n",
    "Pay attention to use only the column names you can see in the tables below. Be careful to not query for columns that do not exist. Also, pay attention to which column is in which table.\n",
    "Pay attention to use CURDATE() function to get the current date, if the question involves \"today\".\n",
    "For results with decimals, round off the numbers to 2 decimal places unless specified otherwise by the user.\n",
    "Use the following format:\n",
    "\n",
    "Question: Question here\n",
    "SQLQuery: SQL Query to run\n",
    "SQLResult: Result of the SQLQuery\n",
    "\n",
    "\"\"\""
   ]
  },
  {
   "cell_type": "code",
   "execution_count": 70,
   "metadata": {},
   "outputs": [],
   "source": [
    "#Example prompt format\n",
    "example_prompt = PromptTemplate(\n",
    "    input_variables=[\"Question\", \"SQLQuery\", \"SQLResult\"],\n",
    "    template=\"\\nQuestion: {Question}\\nSQLQuery: {SQLQuery}\\nSQLResult: {SQLResult}\",\n",
    ")"
   ]
  },
  {
   "cell_type": "code",
   "execution_count": 71,
   "metadata": {},
   "outputs": [],
   "source": [
    "# Entire Prompt\n",
    "few_shot_prompt = FewShotPromptTemplate(\n",
    "    example_selector=example_selector,\n",
    "    example_prompt=example_prompt,\n",
    "    prefix=mysql_prompt,\n",
    "    suffix=PROMPT_SUFFIX,\n",
    "    input_variables=[\"input\", \"table_info\", \"top_k\"], #These variables are used in the prefix and suffix\n",
    ")"
   ]
  },
  {
   "cell_type": "code",
   "execution_count": 74,
   "metadata": {},
   "outputs": [],
   "source": [
    "#Chain_\n",
    "new_chain = SQLDatabaseChain.from_llm(llm, db, verbose=True, prompt=few_shot_prompt,return_direct=True)"
   ]
  },
  {
   "cell_type": "code",
   "execution_count": 75,
   "metadata": {},
   "outputs": [
    {
     "name": "stdout",
     "output_type": "stream",
     "text": [
      "\n",
      "\n",
      "\u001b[1m> Entering new SQLDatabaseChain chain...\u001b[0m\n",
      "Which city has the highest total sales?\n",
      "SQLQuery:\u001b[32;1m\u001b[1;3mSELECT City, SUM(Sales) AS TotalSales FROM orders GROUP BY City ORDER BY TotalSales DESC LIMIT 1\u001b[0m\n",
      "SQLResult: \u001b[33;1m\u001b[1;3m[('New York City', 255248.969)]\u001b[0m\n",
      "\u001b[1m> Finished chain.\u001b[0m\n"
     ]
    },
    {
     "data": {
      "text/plain": [
       "{'query': 'Which city has the highest total sales?',\n",
       " 'result': \"[('New York City', 255248.969)]\"}"
      ]
     },
     "execution_count": 75,
     "metadata": {},
     "output_type": "execute_result"
    }
   ],
   "source": [
    "#Checking how the new chain performs\n",
    "new_chain(\"Which city has the highest total sales?\")"
   ]
  },
  {
   "cell_type": "code",
   "execution_count": 76,
   "metadata": {},
   "outputs": [],
   "source": [
    "#Function to return dataframe\n",
    "def return_df(response):\n",
    "    result_list = eval(response['result'])\n",
    "    df = pd.DataFrame(result_list)\n",
    "    return df"
   ]
  },
  {
   "cell_type": "code",
   "execution_count": 77,
   "metadata": {},
   "outputs": [
    {
     "name": "stdout",
     "output_type": "stream",
     "text": [
      "\n",
      "\n",
      "\u001b[1m> Entering new SQLDatabaseChain chain...\u001b[0m\n",
      "Which city has the highest total sales?\n",
      "SQLQuery:\u001b[32;1m\u001b[1;3mSELECT City, SUM(Sales) AS TotalSales FROM orders GROUP BY City ORDER BY TotalSales DESC LIMIT 1\u001b[0m\n",
      "SQLResult: \u001b[33;1m\u001b[1;3m[('New York City', 255248.969)]\u001b[0m\n",
      "\u001b[1m> Finished chain.\u001b[0m\n"
     ]
    },
    {
     "data": {
      "text/html": [
       "<div>\n",
       "<style scoped>\n",
       "    .dataframe tbody tr th:only-of-type {\n",
       "        vertical-align: middle;\n",
       "    }\n",
       "\n",
       "    .dataframe tbody tr th {\n",
       "        vertical-align: top;\n",
       "    }\n",
       "\n",
       "    .dataframe thead th {\n",
       "        text-align: right;\n",
       "    }\n",
       "</style>\n",
       "<table border=\"1\" class=\"dataframe\">\n",
       "  <thead>\n",
       "    <tr style=\"text-align: right;\">\n",
       "      <th></th>\n",
       "      <th>0</th>\n",
       "      <th>1</th>\n",
       "    </tr>\n",
       "  </thead>\n",
       "  <tbody>\n",
       "    <tr>\n",
       "      <th>0</th>\n",
       "      <td>New York City</td>\n",
       "      <td>255248.969</td>\n",
       "    </tr>\n",
       "  </tbody>\n",
       "</table>\n",
       "</div>"
      ],
      "text/plain": [
       "               0           1\n",
       "0  New York City  255248.969"
      ]
     },
     "execution_count": 77,
     "metadata": {},
     "output_type": "execute_result"
    }
   ],
   "source": [
    "response = new_chain(\"Which city has the highest total sales?\")\n",
    "df = return_df(response)\n",
    "df.head()"
   ]
  },
  {
   "cell_type": "code",
   "execution_count": 78,
   "metadata": {},
   "outputs": [
    {
     "name": "stdout",
     "output_type": "stream",
     "text": [
      "\n",
      "\n",
      "\u001b[1m> Entering new SQLDatabaseChain chain...\u001b[0m\n",
      "How many unique product names are there in the orders table?\n",
      "SQLQuery:\u001b[32;1m\u001b[1;3mSELECT COUNT(DISTINCT Product_Name) FROM orders\u001b[0m\n",
      "SQLResult: \u001b[33;1m\u001b[1;3m[(1797,)]\u001b[0m\n",
      "\u001b[1m> Finished chain.\u001b[0m\n"
     ]
    },
    {
     "data": {
      "text/html": [
       "<div>\n",
       "<style scoped>\n",
       "    .dataframe tbody tr th:only-of-type {\n",
       "        vertical-align: middle;\n",
       "    }\n",
       "\n",
       "    .dataframe tbody tr th {\n",
       "        vertical-align: top;\n",
       "    }\n",
       "\n",
       "    .dataframe thead th {\n",
       "        text-align: right;\n",
       "    }\n",
       "</style>\n",
       "<table border=\"1\" class=\"dataframe\">\n",
       "  <thead>\n",
       "    <tr style=\"text-align: right;\">\n",
       "      <th></th>\n",
       "      <th>0</th>\n",
       "    </tr>\n",
       "  </thead>\n",
       "  <tbody>\n",
       "    <tr>\n",
       "      <th>0</th>\n",
       "      <td>1797</td>\n",
       "    </tr>\n",
       "  </tbody>\n",
       "</table>\n",
       "</div>"
      ],
      "text/plain": [
       "      0\n",
       "0  1797"
      ]
     },
     "execution_count": 78,
     "metadata": {},
     "output_type": "execute_result"
    }
   ],
   "source": [
    "response = new_chain(\"How many unique product names are there in the orders table?\")\n",
    "df = return_df(response)\n",
    "df.head()"
   ]
  },
  {
   "cell_type": "code",
   "execution_count": 79,
   "metadata": {},
   "outputs": [
    {
     "name": "stdout",
     "output_type": "stream",
     "text": [
      "\n",
      "\n",
      "\u001b[1m> Entering new SQLDatabaseChain chain...\u001b[0m\n",
      "How many returns were made for each sub-category of office supplies?\n",
      "SQLQuery:\u001b[32;1m\u001b[1;3mSELECT Sub_Category, COUNT(*) FROM orders WHERE Category = 'Office Supplies' AND Returned = 'Yes' GROUP BY Sub_Category\u001b[0m"
     ]
    },
    {
     "ename": "OperationalError",
     "evalue": "(pymysql.err.OperationalError) (1054, \"Unknown column 'Returned' in 'where clause'\")\n[SQL: SELECT Sub_Category, COUNT(*) FROM orders WHERE Category = 'Office Supplies' AND Returned = 'Yes' GROUP BY Sub_Category]\n(Background on this error at: https://sqlalche.me/e/20/e3q8)",
     "output_type": "error",
     "traceback": [
      "\u001b[1;31m---------------------------------------------------------------------------\u001b[0m",
      "\u001b[1;31mOperationalError\u001b[0m                          Traceback (most recent call last)",
      "File \u001b[1;32mc:\\Users\\ADMIN\\Documents\\Data Analytics\\Machine Learning\\NLP\\NLP Projects\\Text_to_SQL_SuperStore\\venv\\lib\\site-packages\\sqlalchemy\\engine\\base.py:1970\u001b[0m, in \u001b[0;36mConnection._exec_single_context\u001b[1;34m(self, dialect, context, statement, parameters)\u001b[0m\n\u001b[0;32m   1969\u001b[0m     \u001b[38;5;28;01mif\u001b[39;00m \u001b[38;5;129;01mnot\u001b[39;00m evt_handled:\n\u001b[1;32m-> 1970\u001b[0m         \u001b[38;5;28;43mself\u001b[39;49m\u001b[38;5;241;43m.\u001b[39;49m\u001b[43mdialect\u001b[49m\u001b[38;5;241;43m.\u001b[39;49m\u001b[43mdo_execute\u001b[49m\u001b[43m(\u001b[49m\n\u001b[0;32m   1971\u001b[0m \u001b[43m            \u001b[49m\u001b[43mcursor\u001b[49m\u001b[43m,\u001b[49m\u001b[43m \u001b[49m\u001b[43mstr_statement\u001b[49m\u001b[43m,\u001b[49m\u001b[43m \u001b[49m\u001b[43meffective_parameters\u001b[49m\u001b[43m,\u001b[49m\u001b[43m \u001b[49m\u001b[43mcontext\u001b[49m\n\u001b[0;32m   1972\u001b[0m \u001b[43m        \u001b[49m\u001b[43m)\u001b[49m\n\u001b[0;32m   1974\u001b[0m \u001b[38;5;28;01mif\u001b[39;00m \u001b[38;5;28mself\u001b[39m\u001b[38;5;241m.\u001b[39m_has_events \u001b[38;5;129;01mor\u001b[39;00m \u001b[38;5;28mself\u001b[39m\u001b[38;5;241m.\u001b[39mengine\u001b[38;5;241m.\u001b[39m_has_events:\n",
      "File \u001b[1;32mc:\\Users\\ADMIN\\Documents\\Data Analytics\\Machine Learning\\NLP\\NLP Projects\\Text_to_SQL_SuperStore\\venv\\lib\\site-packages\\sqlalchemy\\engine\\default.py:924\u001b[0m, in \u001b[0;36mDefaultDialect.do_execute\u001b[1;34m(self, cursor, statement, parameters, context)\u001b[0m\n\u001b[0;32m    923\u001b[0m \u001b[38;5;28;01mdef\u001b[39;00m \u001b[38;5;21mdo_execute\u001b[39m(\u001b[38;5;28mself\u001b[39m, cursor, statement, parameters, context\u001b[38;5;241m=\u001b[39m\u001b[38;5;28;01mNone\u001b[39;00m):\n\u001b[1;32m--> 924\u001b[0m     \u001b[43mcursor\u001b[49m\u001b[38;5;241;43m.\u001b[39;49m\u001b[43mexecute\u001b[49m\u001b[43m(\u001b[49m\u001b[43mstatement\u001b[49m\u001b[43m,\u001b[49m\u001b[43m \u001b[49m\u001b[43mparameters\u001b[49m\u001b[43m)\u001b[49m\n",
      "File \u001b[1;32mc:\\Users\\ADMIN\\Documents\\Data Analytics\\Machine Learning\\NLP\\NLP Projects\\Text_to_SQL_SuperStore\\venv\\lib\\site-packages\\pymysql\\cursors.py:153\u001b[0m, in \u001b[0;36mCursor.execute\u001b[1;34m(self, query, args)\u001b[0m\n\u001b[0;32m    151\u001b[0m query \u001b[38;5;241m=\u001b[39m \u001b[38;5;28mself\u001b[39m\u001b[38;5;241m.\u001b[39mmogrify(query, args)\n\u001b[1;32m--> 153\u001b[0m result \u001b[38;5;241m=\u001b[39m \u001b[38;5;28;43mself\u001b[39;49m\u001b[38;5;241;43m.\u001b[39;49m\u001b[43m_query\u001b[49m\u001b[43m(\u001b[49m\u001b[43mquery\u001b[49m\u001b[43m)\u001b[49m\n\u001b[0;32m    154\u001b[0m \u001b[38;5;28mself\u001b[39m\u001b[38;5;241m.\u001b[39m_executed \u001b[38;5;241m=\u001b[39m query\n",
      "File \u001b[1;32mc:\\Users\\ADMIN\\Documents\\Data Analytics\\Machine Learning\\NLP\\NLP Projects\\Text_to_SQL_SuperStore\\venv\\lib\\site-packages\\pymysql\\cursors.py:322\u001b[0m, in \u001b[0;36mCursor._query\u001b[1;34m(self, q)\u001b[0m\n\u001b[0;32m    321\u001b[0m \u001b[38;5;28mself\u001b[39m\u001b[38;5;241m.\u001b[39m_clear_result()\n\u001b[1;32m--> 322\u001b[0m \u001b[43mconn\u001b[49m\u001b[38;5;241;43m.\u001b[39;49m\u001b[43mquery\u001b[49m\u001b[43m(\u001b[49m\u001b[43mq\u001b[49m\u001b[43m)\u001b[49m\n\u001b[0;32m    323\u001b[0m \u001b[38;5;28mself\u001b[39m\u001b[38;5;241m.\u001b[39m_do_get_result()\n",
      "File \u001b[1;32mc:\\Users\\ADMIN\\Documents\\Data Analytics\\Machine Learning\\NLP\\NLP Projects\\Text_to_SQL_SuperStore\\venv\\lib\\site-packages\\pymysql\\connections.py:558\u001b[0m, in \u001b[0;36mConnection.query\u001b[1;34m(self, sql, unbuffered)\u001b[0m\n\u001b[0;32m    557\u001b[0m \u001b[38;5;28mself\u001b[39m\u001b[38;5;241m.\u001b[39m_execute_command(COMMAND\u001b[38;5;241m.\u001b[39mCOM_QUERY, sql)\n\u001b[1;32m--> 558\u001b[0m \u001b[38;5;28mself\u001b[39m\u001b[38;5;241m.\u001b[39m_affected_rows \u001b[38;5;241m=\u001b[39m \u001b[38;5;28;43mself\u001b[39;49m\u001b[38;5;241;43m.\u001b[39;49m\u001b[43m_read_query_result\u001b[49m\u001b[43m(\u001b[49m\u001b[43munbuffered\u001b[49m\u001b[38;5;241;43m=\u001b[39;49m\u001b[43munbuffered\u001b[49m\u001b[43m)\u001b[49m\n\u001b[0;32m    559\u001b[0m \u001b[38;5;28;01mreturn\u001b[39;00m \u001b[38;5;28mself\u001b[39m\u001b[38;5;241m.\u001b[39m_affected_rows\n",
      "File \u001b[1;32mc:\\Users\\ADMIN\\Documents\\Data Analytics\\Machine Learning\\NLP\\NLP Projects\\Text_to_SQL_SuperStore\\venv\\lib\\site-packages\\pymysql\\connections.py:822\u001b[0m, in \u001b[0;36mConnection._read_query_result\u001b[1;34m(self, unbuffered)\u001b[0m\n\u001b[0;32m    821\u001b[0m     result \u001b[38;5;241m=\u001b[39m MySQLResult(\u001b[38;5;28mself\u001b[39m)\n\u001b[1;32m--> 822\u001b[0m     \u001b[43mresult\u001b[49m\u001b[38;5;241;43m.\u001b[39;49m\u001b[43mread\u001b[49m\u001b[43m(\u001b[49m\u001b[43m)\u001b[49m\n\u001b[0;32m    823\u001b[0m \u001b[38;5;28mself\u001b[39m\u001b[38;5;241m.\u001b[39m_result \u001b[38;5;241m=\u001b[39m result\n",
      "File \u001b[1;32mc:\\Users\\ADMIN\\Documents\\Data Analytics\\Machine Learning\\NLP\\NLP Projects\\Text_to_SQL_SuperStore\\venv\\lib\\site-packages\\pymysql\\connections.py:1200\u001b[0m, in \u001b[0;36mMySQLResult.read\u001b[1;34m(self)\u001b[0m\n\u001b[0;32m   1199\u001b[0m \u001b[38;5;28;01mtry\u001b[39;00m:\n\u001b[1;32m-> 1200\u001b[0m     first_packet \u001b[38;5;241m=\u001b[39m \u001b[38;5;28;43mself\u001b[39;49m\u001b[38;5;241;43m.\u001b[39;49m\u001b[43mconnection\u001b[49m\u001b[38;5;241;43m.\u001b[39;49m\u001b[43m_read_packet\u001b[49m\u001b[43m(\u001b[49m\u001b[43m)\u001b[49m\n\u001b[0;32m   1202\u001b[0m     \u001b[38;5;28;01mif\u001b[39;00m first_packet\u001b[38;5;241m.\u001b[39mis_ok_packet():\n",
      "File \u001b[1;32mc:\\Users\\ADMIN\\Documents\\Data Analytics\\Machine Learning\\NLP\\NLP Projects\\Text_to_SQL_SuperStore\\venv\\lib\\site-packages\\pymysql\\connections.py:772\u001b[0m, in \u001b[0;36mConnection._read_packet\u001b[1;34m(self, packet_type)\u001b[0m\n\u001b[0;32m    771\u001b[0m         \u001b[38;5;28mself\u001b[39m\u001b[38;5;241m.\u001b[39m_result\u001b[38;5;241m.\u001b[39munbuffered_active \u001b[38;5;241m=\u001b[39m \u001b[38;5;28;01mFalse\u001b[39;00m\n\u001b[1;32m--> 772\u001b[0m     \u001b[43mpacket\u001b[49m\u001b[38;5;241;43m.\u001b[39;49m\u001b[43mraise_for_error\u001b[49m\u001b[43m(\u001b[49m\u001b[43m)\u001b[49m\n\u001b[0;32m    773\u001b[0m \u001b[38;5;28;01mreturn\u001b[39;00m packet\n",
      "File \u001b[1;32mc:\\Users\\ADMIN\\Documents\\Data Analytics\\Machine Learning\\NLP\\NLP Projects\\Text_to_SQL_SuperStore\\venv\\lib\\site-packages\\pymysql\\protocol.py:221\u001b[0m, in \u001b[0;36mMysqlPacket.raise_for_error\u001b[1;34m(self)\u001b[0m\n\u001b[0;32m    220\u001b[0m     \u001b[38;5;28mprint\u001b[39m(\u001b[38;5;124m\"\u001b[39m\u001b[38;5;124merrno =\u001b[39m\u001b[38;5;124m\"\u001b[39m, errno)\n\u001b[1;32m--> 221\u001b[0m \u001b[43merr\u001b[49m\u001b[38;5;241;43m.\u001b[39;49m\u001b[43mraise_mysql_exception\u001b[49m\u001b[43m(\u001b[49m\u001b[38;5;28;43mself\u001b[39;49m\u001b[38;5;241;43m.\u001b[39;49m\u001b[43m_data\u001b[49m\u001b[43m)\u001b[49m\n",
      "File \u001b[1;32mc:\\Users\\ADMIN\\Documents\\Data Analytics\\Machine Learning\\NLP\\NLP Projects\\Text_to_SQL_SuperStore\\venv\\lib\\site-packages\\pymysql\\err.py:143\u001b[0m, in \u001b[0;36mraise_mysql_exception\u001b[1;34m(data)\u001b[0m\n\u001b[0;32m    142\u001b[0m     errorclass \u001b[38;5;241m=\u001b[39m InternalError \u001b[38;5;28;01mif\u001b[39;00m errno \u001b[38;5;241m<\u001b[39m \u001b[38;5;241m1000\u001b[39m \u001b[38;5;28;01melse\u001b[39;00m OperationalError\n\u001b[1;32m--> 143\u001b[0m \u001b[38;5;28;01mraise\u001b[39;00m errorclass(errno, errval)\n",
      "\u001b[1;31mOperationalError\u001b[0m: (1054, \"Unknown column 'Returned' in 'where clause'\")",
      "\nThe above exception was the direct cause of the following exception:\n",
      "\u001b[1;31mOperationalError\u001b[0m                          Traceback (most recent call last)",
      "Cell \u001b[1;32mIn[79], line 1\u001b[0m\n\u001b[1;32m----> 1\u001b[0m response \u001b[38;5;241m=\u001b[39m \u001b[43mnew_chain\u001b[49m\u001b[43m(\u001b[49m\u001b[38;5;124;43m\"\u001b[39;49m\u001b[38;5;124;43mHow many returns were made for each sub-category of office supplies?\u001b[39;49m\u001b[38;5;124;43m\"\u001b[39;49m\u001b[43m)\u001b[49m\n\u001b[0;32m      2\u001b[0m df \u001b[38;5;241m=\u001b[39m return_df(response)\n\u001b[0;32m      3\u001b[0m df\u001b[38;5;241m.\u001b[39mhead()\n",
      "File \u001b[1;32mc:\\Users\\ADMIN\\Documents\\Data Analytics\\Machine Learning\\NLP\\NLP Projects\\Text_to_SQL_SuperStore\\venv\\lib\\site-packages\\langchain\\chains\\base.py:292\u001b[0m, in \u001b[0;36mChain.__call__\u001b[1;34m(self, inputs, return_only_outputs, callbacks, tags, metadata, run_name, include_run_info)\u001b[0m\n\u001b[0;32m    290\u001b[0m \u001b[38;5;28;01mexcept\u001b[39;00m (\u001b[38;5;167;01mKeyboardInterrupt\u001b[39;00m, \u001b[38;5;167;01mException\u001b[39;00m) \u001b[38;5;28;01mas\u001b[39;00m e:\n\u001b[0;32m    291\u001b[0m     run_manager\u001b[38;5;241m.\u001b[39mon_chain_error(e)\n\u001b[1;32m--> 292\u001b[0m     \u001b[38;5;28;01mraise\u001b[39;00m e\n\u001b[0;32m    293\u001b[0m run_manager\u001b[38;5;241m.\u001b[39mon_chain_end(outputs)\n\u001b[0;32m    294\u001b[0m final_outputs: Dict[\u001b[38;5;28mstr\u001b[39m, Any] \u001b[38;5;241m=\u001b[39m \u001b[38;5;28mself\u001b[39m\u001b[38;5;241m.\u001b[39mprep_outputs(\n\u001b[0;32m    295\u001b[0m     inputs, outputs, return_only_outputs\n\u001b[0;32m    296\u001b[0m )\n",
      "File \u001b[1;32mc:\\Users\\ADMIN\\Documents\\Data Analytics\\Machine Learning\\NLP\\NLP Projects\\Text_to_SQL_SuperStore\\venv\\lib\\site-packages\\langchain\\chains\\base.py:286\u001b[0m, in \u001b[0;36mChain.__call__\u001b[1;34m(self, inputs, return_only_outputs, callbacks, tags, metadata, run_name, include_run_info)\u001b[0m\n\u001b[0;32m    279\u001b[0m run_manager \u001b[38;5;241m=\u001b[39m callback_manager\u001b[38;5;241m.\u001b[39mon_chain_start(\n\u001b[0;32m    280\u001b[0m     dumpd(\u001b[38;5;28mself\u001b[39m),\n\u001b[0;32m    281\u001b[0m     inputs,\n\u001b[0;32m    282\u001b[0m     name\u001b[38;5;241m=\u001b[39mrun_name,\n\u001b[0;32m    283\u001b[0m )\n\u001b[0;32m    284\u001b[0m \u001b[38;5;28;01mtry\u001b[39;00m:\n\u001b[0;32m    285\u001b[0m     outputs \u001b[38;5;241m=\u001b[39m (\n\u001b[1;32m--> 286\u001b[0m         \u001b[38;5;28;43mself\u001b[39;49m\u001b[38;5;241;43m.\u001b[39;49m\u001b[43m_call\u001b[49m\u001b[43m(\u001b[49m\u001b[43minputs\u001b[49m\u001b[43m,\u001b[49m\u001b[43m \u001b[49m\u001b[43mrun_manager\u001b[49m\u001b[38;5;241;43m=\u001b[39;49m\u001b[43mrun_manager\u001b[49m\u001b[43m)\u001b[49m\n\u001b[0;32m    287\u001b[0m         \u001b[38;5;28;01mif\u001b[39;00m new_arg_supported\n\u001b[0;32m    288\u001b[0m         \u001b[38;5;28;01melse\u001b[39;00m \u001b[38;5;28mself\u001b[39m\u001b[38;5;241m.\u001b[39m_call(inputs)\n\u001b[0;32m    289\u001b[0m     )\n\u001b[0;32m    290\u001b[0m \u001b[38;5;28;01mexcept\u001b[39;00m (\u001b[38;5;167;01mKeyboardInterrupt\u001b[39;00m, \u001b[38;5;167;01mException\u001b[39;00m) \u001b[38;5;28;01mas\u001b[39;00m e:\n\u001b[0;32m    291\u001b[0m     run_manager\u001b[38;5;241m.\u001b[39mon_chain_error(e)\n",
      "File \u001b[1;32mc:\\Users\\ADMIN\\Documents\\Data Analytics\\Machine Learning\\NLP\\NLP Projects\\Text_to_SQL_SuperStore\\venv\\lib\\site-packages\\langchain_experimental\\sql\\base.py:198\u001b[0m, in \u001b[0;36mSQLDatabaseChain._call\u001b[1;34m(self, inputs, run_manager)\u001b[0m\n\u001b[0;32m    194\u001b[0m \u001b[38;5;28;01mexcept\u001b[39;00m \u001b[38;5;167;01mException\u001b[39;00m \u001b[38;5;28;01mas\u001b[39;00m exc:\n\u001b[0;32m    195\u001b[0m     \u001b[38;5;66;03m# Append intermediate steps to exception, to aid in logging and later\u001b[39;00m\n\u001b[0;32m    196\u001b[0m     \u001b[38;5;66;03m# improvement of few shot prompt seeds\u001b[39;00m\n\u001b[0;32m    197\u001b[0m     exc\u001b[38;5;241m.\u001b[39mintermediate_steps \u001b[38;5;241m=\u001b[39m intermediate_steps  \u001b[38;5;66;03m# type: ignore\u001b[39;00m\n\u001b[1;32m--> 198\u001b[0m     \u001b[38;5;28;01mraise\u001b[39;00m exc\n",
      "File \u001b[1;32mc:\\Users\\ADMIN\\Documents\\Data Analytics\\Machine Learning\\NLP\\NLP Projects\\Text_to_SQL_SuperStore\\venv\\lib\\site-packages\\langchain_experimental\\sql\\base.py:143\u001b[0m, in \u001b[0;36mSQLDatabaseChain._call\u001b[1;34m(self, inputs, run_manager)\u001b[0m\n\u001b[0;32m    139\u001b[0m     intermediate_steps\u001b[38;5;241m.\u001b[39mappend(\n\u001b[0;32m    140\u001b[0m         sql_cmd\n\u001b[0;32m    141\u001b[0m     )  \u001b[38;5;66;03m# output: sql generation (no checker)\u001b[39;00m\n\u001b[0;32m    142\u001b[0m     intermediate_steps\u001b[38;5;241m.\u001b[39mappend({\u001b[38;5;124m\"\u001b[39m\u001b[38;5;124msql_cmd\u001b[39m\u001b[38;5;124m\"\u001b[39m: sql_cmd})  \u001b[38;5;66;03m# input: sql exec\u001b[39;00m\n\u001b[1;32m--> 143\u001b[0m     result \u001b[38;5;241m=\u001b[39m \u001b[38;5;28;43mself\u001b[39;49m\u001b[38;5;241;43m.\u001b[39;49m\u001b[43mdatabase\u001b[49m\u001b[38;5;241;43m.\u001b[39;49m\u001b[43mrun\u001b[49m\u001b[43m(\u001b[49m\u001b[43msql_cmd\u001b[49m\u001b[43m)\u001b[49m\n\u001b[0;32m    144\u001b[0m     intermediate_steps\u001b[38;5;241m.\u001b[39mappend(\u001b[38;5;28mstr\u001b[39m(result))  \u001b[38;5;66;03m# output: sql exec\u001b[39;00m\n\u001b[0;32m    145\u001b[0m \u001b[38;5;28;01melse\u001b[39;00m:\n",
      "File \u001b[1;32mc:\\Users\\ADMIN\\Documents\\Data Analytics\\Machine Learning\\NLP\\NLP Projects\\Text_to_SQL_SuperStore\\venv\\lib\\site-packages\\langchain\\utilities\\sql_database.py:414\u001b[0m, in \u001b[0;36mSQLDatabase.run\u001b[1;34m(self, command, fetch)\u001b[0m\n\u001b[0;32m    408\u001b[0m \u001b[38;5;28;01mdef\u001b[39;00m \u001b[38;5;21mrun\u001b[39m(\u001b[38;5;28mself\u001b[39m, command: \u001b[38;5;28mstr\u001b[39m, fetch: \u001b[38;5;28mstr\u001b[39m \u001b[38;5;241m=\u001b[39m \u001b[38;5;124m\"\u001b[39m\u001b[38;5;124mall\u001b[39m\u001b[38;5;124m\"\u001b[39m) \u001b[38;5;241m-\u001b[39m\u001b[38;5;241m>\u001b[39m \u001b[38;5;28mstr\u001b[39m:\n\u001b[0;32m    409\u001b[0m \u001b[38;5;250m    \u001b[39m\u001b[38;5;124;03m\"\"\"Execute a SQL command and return a string representing the results.\u001b[39;00m\n\u001b[0;32m    410\u001b[0m \n\u001b[0;32m    411\u001b[0m \u001b[38;5;124;03m    If the statement returns rows, a string of the results is returned.\u001b[39;00m\n\u001b[0;32m    412\u001b[0m \u001b[38;5;124;03m    If the statement returns no rows, an empty string is returned.\u001b[39;00m\n\u001b[0;32m    413\u001b[0m \u001b[38;5;124;03m    \"\"\"\u001b[39;00m\n\u001b[1;32m--> 414\u001b[0m     result \u001b[38;5;241m=\u001b[39m \u001b[38;5;28;43mself\u001b[39;49m\u001b[38;5;241;43m.\u001b[39;49m\u001b[43m_execute\u001b[49m\u001b[43m(\u001b[49m\u001b[43mcommand\u001b[49m\u001b[43m,\u001b[49m\u001b[43m \u001b[49m\u001b[43mfetch\u001b[49m\u001b[43m)\u001b[49m\n\u001b[0;32m    415\u001b[0m     \u001b[38;5;66;03m# Convert columns values to string to avoid issues with sqlalchemy\u001b[39;00m\n\u001b[0;32m    416\u001b[0m     \u001b[38;5;66;03m# truncating text\u001b[39;00m\n\u001b[0;32m    417\u001b[0m     \u001b[38;5;28;01mif\u001b[39;00m \u001b[38;5;129;01mnot\u001b[39;00m result:\n",
      "File \u001b[1;32mc:\\Users\\ADMIN\\Documents\\Data Analytics\\Machine Learning\\NLP\\NLP Projects\\Text_to_SQL_SuperStore\\venv\\lib\\site-packages\\langchain\\utilities\\sql_database.py:397\u001b[0m, in \u001b[0;36mSQLDatabase._execute\u001b[1;34m(self, command, fetch)\u001b[0m\n\u001b[0;32m    395\u001b[0m     \u001b[38;5;28;01melse\u001b[39;00m:  \u001b[38;5;66;03m# postgresql and compatible dialects\u001b[39;00m\n\u001b[0;32m    396\u001b[0m         connection\u001b[38;5;241m.\u001b[39mexec_driver_sql(\u001b[38;5;124mf\u001b[39m\u001b[38;5;124m\"\u001b[39m\u001b[38;5;124mSET search_path TO \u001b[39m\u001b[38;5;132;01m{\u001b[39;00m\u001b[38;5;28mself\u001b[39m\u001b[38;5;241m.\u001b[39m_schema\u001b[38;5;132;01m}\u001b[39;00m\u001b[38;5;124m\"\u001b[39m)\n\u001b[1;32m--> 397\u001b[0m cursor \u001b[38;5;241m=\u001b[39m \u001b[43mconnection\u001b[49m\u001b[38;5;241;43m.\u001b[39;49m\u001b[43mexecute\u001b[49m\u001b[43m(\u001b[49m\u001b[43mtext\u001b[49m\u001b[43m(\u001b[49m\u001b[43mcommand\u001b[49m\u001b[43m)\u001b[49m\u001b[43m)\u001b[49m\n\u001b[0;32m    398\u001b[0m \u001b[38;5;28;01mif\u001b[39;00m cursor\u001b[38;5;241m.\u001b[39mreturns_rows:\n\u001b[0;32m    399\u001b[0m     \u001b[38;5;28;01mif\u001b[39;00m fetch \u001b[38;5;241m==\u001b[39m \u001b[38;5;124m\"\u001b[39m\u001b[38;5;124mall\u001b[39m\u001b[38;5;124m\"\u001b[39m:\n",
      "File \u001b[1;32mc:\\Users\\ADMIN\\Documents\\Data Analytics\\Machine Learning\\NLP\\NLP Projects\\Text_to_SQL_SuperStore\\venv\\lib\\site-packages\\sqlalchemy\\engine\\base.py:1421\u001b[0m, in \u001b[0;36mConnection.execute\u001b[1;34m(self, statement, parameters, execution_options)\u001b[0m\n\u001b[0;32m   1419\u001b[0m     \u001b[38;5;28;01mraise\u001b[39;00m exc\u001b[38;5;241m.\u001b[39mObjectNotExecutableError(statement) \u001b[38;5;28;01mfrom\u001b[39;00m \u001b[38;5;21;01merr\u001b[39;00m\n\u001b[0;32m   1420\u001b[0m \u001b[38;5;28;01melse\u001b[39;00m:\n\u001b[1;32m-> 1421\u001b[0m     \u001b[38;5;28;01mreturn\u001b[39;00m \u001b[43mmeth\u001b[49m\u001b[43m(\u001b[49m\n\u001b[0;32m   1422\u001b[0m \u001b[43m        \u001b[49m\u001b[38;5;28;43mself\u001b[39;49m\u001b[43m,\u001b[49m\n\u001b[0;32m   1423\u001b[0m \u001b[43m        \u001b[49m\u001b[43mdistilled_parameters\u001b[49m\u001b[43m,\u001b[49m\n\u001b[0;32m   1424\u001b[0m \u001b[43m        \u001b[49m\u001b[43mexecution_options\u001b[49m\u001b[43m \u001b[49m\u001b[38;5;129;43;01mor\u001b[39;49;00m\u001b[43m \u001b[49m\u001b[43mNO_OPTIONS\u001b[49m\u001b[43m,\u001b[49m\n\u001b[0;32m   1425\u001b[0m \u001b[43m    \u001b[49m\u001b[43m)\u001b[49m\n",
      "File \u001b[1;32mc:\\Users\\ADMIN\\Documents\\Data Analytics\\Machine Learning\\NLP\\NLP Projects\\Text_to_SQL_SuperStore\\venv\\lib\\site-packages\\sqlalchemy\\sql\\elements.py:514\u001b[0m, in \u001b[0;36mClauseElement._execute_on_connection\u001b[1;34m(self, connection, distilled_params, execution_options)\u001b[0m\n\u001b[0;32m    512\u001b[0m     \u001b[38;5;28;01mif\u001b[39;00m TYPE_CHECKING:\n\u001b[0;32m    513\u001b[0m         \u001b[38;5;28;01massert\u001b[39;00m \u001b[38;5;28misinstance\u001b[39m(\u001b[38;5;28mself\u001b[39m, Executable)\n\u001b[1;32m--> 514\u001b[0m     \u001b[38;5;28;01mreturn\u001b[39;00m \u001b[43mconnection\u001b[49m\u001b[38;5;241;43m.\u001b[39;49m\u001b[43m_execute_clauseelement\u001b[49m\u001b[43m(\u001b[49m\n\u001b[0;32m    515\u001b[0m \u001b[43m        \u001b[49m\u001b[38;5;28;43mself\u001b[39;49m\u001b[43m,\u001b[49m\u001b[43m \u001b[49m\u001b[43mdistilled_params\u001b[49m\u001b[43m,\u001b[49m\u001b[43m \u001b[49m\u001b[43mexecution_options\u001b[49m\n\u001b[0;32m    516\u001b[0m \u001b[43m    \u001b[49m\u001b[43m)\u001b[49m\n\u001b[0;32m    517\u001b[0m \u001b[38;5;28;01melse\u001b[39;00m:\n\u001b[0;32m    518\u001b[0m     \u001b[38;5;28;01mraise\u001b[39;00m exc\u001b[38;5;241m.\u001b[39mObjectNotExecutableError(\u001b[38;5;28mself\u001b[39m)\n",
      "File \u001b[1;32mc:\\Users\\ADMIN\\Documents\\Data Analytics\\Machine Learning\\NLP\\NLP Projects\\Text_to_SQL_SuperStore\\venv\\lib\\site-packages\\sqlalchemy\\engine\\base.py:1643\u001b[0m, in \u001b[0;36mConnection._execute_clauseelement\u001b[1;34m(self, elem, distilled_parameters, execution_options)\u001b[0m\n\u001b[0;32m   1631\u001b[0m compiled_cache: Optional[CompiledCacheType] \u001b[38;5;241m=\u001b[39m execution_options\u001b[38;5;241m.\u001b[39mget(\n\u001b[0;32m   1632\u001b[0m     \u001b[38;5;124m\"\u001b[39m\u001b[38;5;124mcompiled_cache\u001b[39m\u001b[38;5;124m\"\u001b[39m, \u001b[38;5;28mself\u001b[39m\u001b[38;5;241m.\u001b[39mengine\u001b[38;5;241m.\u001b[39m_compiled_cache\n\u001b[0;32m   1633\u001b[0m )\n\u001b[0;32m   1635\u001b[0m compiled_sql, extracted_params, cache_hit \u001b[38;5;241m=\u001b[39m elem\u001b[38;5;241m.\u001b[39m_compile_w_cache(\n\u001b[0;32m   1636\u001b[0m     dialect\u001b[38;5;241m=\u001b[39mdialect,\n\u001b[0;32m   1637\u001b[0m     compiled_cache\u001b[38;5;241m=\u001b[39mcompiled_cache,\n\u001b[1;32m   (...)\u001b[0m\n\u001b[0;32m   1641\u001b[0m     linting\u001b[38;5;241m=\u001b[39m\u001b[38;5;28mself\u001b[39m\u001b[38;5;241m.\u001b[39mdialect\u001b[38;5;241m.\u001b[39mcompiler_linting \u001b[38;5;241m|\u001b[39m compiler\u001b[38;5;241m.\u001b[39mWARN_LINTING,\n\u001b[0;32m   1642\u001b[0m )\n\u001b[1;32m-> 1643\u001b[0m ret \u001b[38;5;241m=\u001b[39m \u001b[38;5;28;43mself\u001b[39;49m\u001b[38;5;241;43m.\u001b[39;49m\u001b[43m_execute_context\u001b[49m\u001b[43m(\u001b[49m\n\u001b[0;32m   1644\u001b[0m \u001b[43m    \u001b[49m\u001b[43mdialect\u001b[49m\u001b[43m,\u001b[49m\n\u001b[0;32m   1645\u001b[0m \u001b[43m    \u001b[49m\u001b[43mdialect\u001b[49m\u001b[38;5;241;43m.\u001b[39;49m\u001b[43mexecution_ctx_cls\u001b[49m\u001b[38;5;241;43m.\u001b[39;49m\u001b[43m_init_compiled\u001b[49m\u001b[43m,\u001b[49m\n\u001b[0;32m   1646\u001b[0m \u001b[43m    \u001b[49m\u001b[43mcompiled_sql\u001b[49m\u001b[43m,\u001b[49m\n\u001b[0;32m   1647\u001b[0m \u001b[43m    \u001b[49m\u001b[43mdistilled_parameters\u001b[49m\u001b[43m,\u001b[49m\n\u001b[0;32m   1648\u001b[0m \u001b[43m    \u001b[49m\u001b[43mexecution_options\u001b[49m\u001b[43m,\u001b[49m\n\u001b[0;32m   1649\u001b[0m \u001b[43m    \u001b[49m\u001b[43mcompiled_sql\u001b[49m\u001b[43m,\u001b[49m\n\u001b[0;32m   1650\u001b[0m \u001b[43m    \u001b[49m\u001b[43mdistilled_parameters\u001b[49m\u001b[43m,\u001b[49m\n\u001b[0;32m   1651\u001b[0m \u001b[43m    \u001b[49m\u001b[43melem\u001b[49m\u001b[43m,\u001b[49m\n\u001b[0;32m   1652\u001b[0m \u001b[43m    \u001b[49m\u001b[43mextracted_params\u001b[49m\u001b[43m,\u001b[49m\n\u001b[0;32m   1653\u001b[0m \u001b[43m    \u001b[49m\u001b[43mcache_hit\u001b[49m\u001b[38;5;241;43m=\u001b[39;49m\u001b[43mcache_hit\u001b[49m\u001b[43m,\u001b[49m\n\u001b[0;32m   1654\u001b[0m \u001b[43m\u001b[49m\u001b[43m)\u001b[49m\n\u001b[0;32m   1655\u001b[0m \u001b[38;5;28;01mif\u001b[39;00m has_events:\n\u001b[0;32m   1656\u001b[0m     \u001b[38;5;28mself\u001b[39m\u001b[38;5;241m.\u001b[39mdispatch\u001b[38;5;241m.\u001b[39mafter_execute(\n\u001b[0;32m   1657\u001b[0m         \u001b[38;5;28mself\u001b[39m,\n\u001b[0;32m   1658\u001b[0m         elem,\n\u001b[1;32m   (...)\u001b[0m\n\u001b[0;32m   1662\u001b[0m         ret,\n\u001b[0;32m   1663\u001b[0m     )\n",
      "File \u001b[1;32mc:\\Users\\ADMIN\\Documents\\Data Analytics\\Machine Learning\\NLP\\NLP Projects\\Text_to_SQL_SuperStore\\venv\\lib\\site-packages\\sqlalchemy\\engine\\base.py:1849\u001b[0m, in \u001b[0;36mConnection._execute_context\u001b[1;34m(self, dialect, constructor, statement, parameters, execution_options, *args, **kw)\u001b[0m\n\u001b[0;32m   1847\u001b[0m     \u001b[38;5;28;01mreturn\u001b[39;00m \u001b[38;5;28mself\u001b[39m\u001b[38;5;241m.\u001b[39m_exec_insertmany_context(dialect, context)\n\u001b[0;32m   1848\u001b[0m \u001b[38;5;28;01melse\u001b[39;00m:\n\u001b[1;32m-> 1849\u001b[0m     \u001b[38;5;28;01mreturn\u001b[39;00m \u001b[38;5;28;43mself\u001b[39;49m\u001b[38;5;241;43m.\u001b[39;49m\u001b[43m_exec_single_context\u001b[49m\u001b[43m(\u001b[49m\n\u001b[0;32m   1850\u001b[0m \u001b[43m        \u001b[49m\u001b[43mdialect\u001b[49m\u001b[43m,\u001b[49m\u001b[43m \u001b[49m\u001b[43mcontext\u001b[49m\u001b[43m,\u001b[49m\u001b[43m \u001b[49m\u001b[43mstatement\u001b[49m\u001b[43m,\u001b[49m\u001b[43m \u001b[49m\u001b[43mparameters\u001b[49m\n\u001b[0;32m   1851\u001b[0m \u001b[43m    \u001b[49m\u001b[43m)\u001b[49m\n",
      "File \u001b[1;32mc:\\Users\\ADMIN\\Documents\\Data Analytics\\Machine Learning\\NLP\\NLP Projects\\Text_to_SQL_SuperStore\\venv\\lib\\site-packages\\sqlalchemy\\engine\\base.py:1989\u001b[0m, in \u001b[0;36mConnection._exec_single_context\u001b[1;34m(self, dialect, context, statement, parameters)\u001b[0m\n\u001b[0;32m   1986\u001b[0m     result \u001b[38;5;241m=\u001b[39m context\u001b[38;5;241m.\u001b[39m_setup_result_proxy()\n\u001b[0;32m   1988\u001b[0m \u001b[38;5;28;01mexcept\u001b[39;00m \u001b[38;5;167;01mBaseException\u001b[39;00m \u001b[38;5;28;01mas\u001b[39;00m e:\n\u001b[1;32m-> 1989\u001b[0m     \u001b[38;5;28;43mself\u001b[39;49m\u001b[38;5;241;43m.\u001b[39;49m\u001b[43m_handle_dbapi_exception\u001b[49m\u001b[43m(\u001b[49m\n\u001b[0;32m   1990\u001b[0m \u001b[43m        \u001b[49m\u001b[43me\u001b[49m\u001b[43m,\u001b[49m\u001b[43m \u001b[49m\u001b[43mstr_statement\u001b[49m\u001b[43m,\u001b[49m\u001b[43m \u001b[49m\u001b[43meffective_parameters\u001b[49m\u001b[43m,\u001b[49m\u001b[43m \u001b[49m\u001b[43mcursor\u001b[49m\u001b[43m,\u001b[49m\u001b[43m \u001b[49m\u001b[43mcontext\u001b[49m\n\u001b[0;32m   1991\u001b[0m \u001b[43m    \u001b[49m\u001b[43m)\u001b[49m\n\u001b[0;32m   1993\u001b[0m \u001b[38;5;28;01mreturn\u001b[39;00m result\n",
      "File \u001b[1;32mc:\\Users\\ADMIN\\Documents\\Data Analytics\\Machine Learning\\NLP\\NLP Projects\\Text_to_SQL_SuperStore\\venv\\lib\\site-packages\\sqlalchemy\\engine\\base.py:2356\u001b[0m, in \u001b[0;36mConnection._handle_dbapi_exception\u001b[1;34m(self, e, statement, parameters, cursor, context, is_sub_exec)\u001b[0m\n\u001b[0;32m   2354\u001b[0m \u001b[38;5;28;01melif\u001b[39;00m should_wrap:\n\u001b[0;32m   2355\u001b[0m     \u001b[38;5;28;01massert\u001b[39;00m sqlalchemy_exception \u001b[38;5;129;01mis\u001b[39;00m \u001b[38;5;129;01mnot\u001b[39;00m \u001b[38;5;28;01mNone\u001b[39;00m\n\u001b[1;32m-> 2356\u001b[0m     \u001b[38;5;28;01mraise\u001b[39;00m sqlalchemy_exception\u001b[38;5;241m.\u001b[39mwith_traceback(exc_info[\u001b[38;5;241m2\u001b[39m]) \u001b[38;5;28;01mfrom\u001b[39;00m \u001b[38;5;21;01me\u001b[39;00m\n\u001b[0;32m   2357\u001b[0m \u001b[38;5;28;01melse\u001b[39;00m:\n\u001b[0;32m   2358\u001b[0m     \u001b[38;5;28;01massert\u001b[39;00m exc_info[\u001b[38;5;241m1\u001b[39m] \u001b[38;5;129;01mis\u001b[39;00m \u001b[38;5;129;01mnot\u001b[39;00m \u001b[38;5;28;01mNone\u001b[39;00m\n",
      "File \u001b[1;32mc:\\Users\\ADMIN\\Documents\\Data Analytics\\Machine Learning\\NLP\\NLP Projects\\Text_to_SQL_SuperStore\\venv\\lib\\site-packages\\sqlalchemy\\engine\\base.py:1970\u001b[0m, in \u001b[0;36mConnection._exec_single_context\u001b[1;34m(self, dialect, context, statement, parameters)\u001b[0m\n\u001b[0;32m   1968\u001b[0m                 \u001b[38;5;28;01mbreak\u001b[39;00m\n\u001b[0;32m   1969\u001b[0m     \u001b[38;5;28;01mif\u001b[39;00m \u001b[38;5;129;01mnot\u001b[39;00m evt_handled:\n\u001b[1;32m-> 1970\u001b[0m         \u001b[38;5;28;43mself\u001b[39;49m\u001b[38;5;241;43m.\u001b[39;49m\u001b[43mdialect\u001b[49m\u001b[38;5;241;43m.\u001b[39;49m\u001b[43mdo_execute\u001b[49m\u001b[43m(\u001b[49m\n\u001b[0;32m   1971\u001b[0m \u001b[43m            \u001b[49m\u001b[43mcursor\u001b[49m\u001b[43m,\u001b[49m\u001b[43m \u001b[49m\u001b[43mstr_statement\u001b[49m\u001b[43m,\u001b[49m\u001b[43m \u001b[49m\u001b[43meffective_parameters\u001b[49m\u001b[43m,\u001b[49m\u001b[43m \u001b[49m\u001b[43mcontext\u001b[49m\n\u001b[0;32m   1972\u001b[0m \u001b[43m        \u001b[49m\u001b[43m)\u001b[49m\n\u001b[0;32m   1974\u001b[0m \u001b[38;5;28;01mif\u001b[39;00m \u001b[38;5;28mself\u001b[39m\u001b[38;5;241m.\u001b[39m_has_events \u001b[38;5;129;01mor\u001b[39;00m \u001b[38;5;28mself\u001b[39m\u001b[38;5;241m.\u001b[39mengine\u001b[38;5;241m.\u001b[39m_has_events:\n\u001b[0;32m   1975\u001b[0m     \u001b[38;5;28mself\u001b[39m\u001b[38;5;241m.\u001b[39mdispatch\u001b[38;5;241m.\u001b[39mafter_cursor_execute(\n\u001b[0;32m   1976\u001b[0m         \u001b[38;5;28mself\u001b[39m,\n\u001b[0;32m   1977\u001b[0m         cursor,\n\u001b[1;32m   (...)\u001b[0m\n\u001b[0;32m   1981\u001b[0m         context\u001b[38;5;241m.\u001b[39mexecutemany,\n\u001b[0;32m   1982\u001b[0m     )\n",
      "File \u001b[1;32mc:\\Users\\ADMIN\\Documents\\Data Analytics\\Machine Learning\\NLP\\NLP Projects\\Text_to_SQL_SuperStore\\venv\\lib\\site-packages\\sqlalchemy\\engine\\default.py:924\u001b[0m, in \u001b[0;36mDefaultDialect.do_execute\u001b[1;34m(self, cursor, statement, parameters, context)\u001b[0m\n\u001b[0;32m    923\u001b[0m \u001b[38;5;28;01mdef\u001b[39;00m \u001b[38;5;21mdo_execute\u001b[39m(\u001b[38;5;28mself\u001b[39m, cursor, statement, parameters, context\u001b[38;5;241m=\u001b[39m\u001b[38;5;28;01mNone\u001b[39;00m):\n\u001b[1;32m--> 924\u001b[0m     \u001b[43mcursor\u001b[49m\u001b[38;5;241;43m.\u001b[39;49m\u001b[43mexecute\u001b[49m\u001b[43m(\u001b[49m\u001b[43mstatement\u001b[49m\u001b[43m,\u001b[49m\u001b[43m \u001b[49m\u001b[43mparameters\u001b[49m\u001b[43m)\u001b[49m\n",
      "File \u001b[1;32mc:\\Users\\ADMIN\\Documents\\Data Analytics\\Machine Learning\\NLP\\NLP Projects\\Text_to_SQL_SuperStore\\venv\\lib\\site-packages\\pymysql\\cursors.py:153\u001b[0m, in \u001b[0;36mCursor.execute\u001b[1;34m(self, query, args)\u001b[0m\n\u001b[0;32m    149\u001b[0m     \u001b[38;5;28;01mpass\u001b[39;00m\n\u001b[0;32m    151\u001b[0m query \u001b[38;5;241m=\u001b[39m \u001b[38;5;28mself\u001b[39m\u001b[38;5;241m.\u001b[39mmogrify(query, args)\n\u001b[1;32m--> 153\u001b[0m result \u001b[38;5;241m=\u001b[39m \u001b[38;5;28;43mself\u001b[39;49m\u001b[38;5;241;43m.\u001b[39;49m\u001b[43m_query\u001b[49m\u001b[43m(\u001b[49m\u001b[43mquery\u001b[49m\u001b[43m)\u001b[49m\n\u001b[0;32m    154\u001b[0m \u001b[38;5;28mself\u001b[39m\u001b[38;5;241m.\u001b[39m_executed \u001b[38;5;241m=\u001b[39m query\n\u001b[0;32m    155\u001b[0m \u001b[38;5;28;01mreturn\u001b[39;00m result\n",
      "File \u001b[1;32mc:\\Users\\ADMIN\\Documents\\Data Analytics\\Machine Learning\\NLP\\NLP Projects\\Text_to_SQL_SuperStore\\venv\\lib\\site-packages\\pymysql\\cursors.py:322\u001b[0m, in \u001b[0;36mCursor._query\u001b[1;34m(self, q)\u001b[0m\n\u001b[0;32m    320\u001b[0m conn \u001b[38;5;241m=\u001b[39m \u001b[38;5;28mself\u001b[39m\u001b[38;5;241m.\u001b[39m_get_db()\n\u001b[0;32m    321\u001b[0m \u001b[38;5;28mself\u001b[39m\u001b[38;5;241m.\u001b[39m_clear_result()\n\u001b[1;32m--> 322\u001b[0m \u001b[43mconn\u001b[49m\u001b[38;5;241;43m.\u001b[39;49m\u001b[43mquery\u001b[49m\u001b[43m(\u001b[49m\u001b[43mq\u001b[49m\u001b[43m)\u001b[49m\n\u001b[0;32m    323\u001b[0m \u001b[38;5;28mself\u001b[39m\u001b[38;5;241m.\u001b[39m_do_get_result()\n\u001b[0;32m    324\u001b[0m \u001b[38;5;28;01mreturn\u001b[39;00m \u001b[38;5;28mself\u001b[39m\u001b[38;5;241m.\u001b[39mrowcount\n",
      "File \u001b[1;32mc:\\Users\\ADMIN\\Documents\\Data Analytics\\Machine Learning\\NLP\\NLP Projects\\Text_to_SQL_SuperStore\\venv\\lib\\site-packages\\pymysql\\connections.py:558\u001b[0m, in \u001b[0;36mConnection.query\u001b[1;34m(self, sql, unbuffered)\u001b[0m\n\u001b[0;32m    556\u001b[0m     sql \u001b[38;5;241m=\u001b[39m sql\u001b[38;5;241m.\u001b[39mencode(\u001b[38;5;28mself\u001b[39m\u001b[38;5;241m.\u001b[39mencoding, \u001b[38;5;124m\"\u001b[39m\u001b[38;5;124msurrogateescape\u001b[39m\u001b[38;5;124m\"\u001b[39m)\n\u001b[0;32m    557\u001b[0m \u001b[38;5;28mself\u001b[39m\u001b[38;5;241m.\u001b[39m_execute_command(COMMAND\u001b[38;5;241m.\u001b[39mCOM_QUERY, sql)\n\u001b[1;32m--> 558\u001b[0m \u001b[38;5;28mself\u001b[39m\u001b[38;5;241m.\u001b[39m_affected_rows \u001b[38;5;241m=\u001b[39m \u001b[38;5;28;43mself\u001b[39;49m\u001b[38;5;241;43m.\u001b[39;49m\u001b[43m_read_query_result\u001b[49m\u001b[43m(\u001b[49m\u001b[43munbuffered\u001b[49m\u001b[38;5;241;43m=\u001b[39;49m\u001b[43munbuffered\u001b[49m\u001b[43m)\u001b[49m\n\u001b[0;32m    559\u001b[0m \u001b[38;5;28;01mreturn\u001b[39;00m \u001b[38;5;28mself\u001b[39m\u001b[38;5;241m.\u001b[39m_affected_rows\n",
      "File \u001b[1;32mc:\\Users\\ADMIN\\Documents\\Data Analytics\\Machine Learning\\NLP\\NLP Projects\\Text_to_SQL_SuperStore\\venv\\lib\\site-packages\\pymysql\\connections.py:822\u001b[0m, in \u001b[0;36mConnection._read_query_result\u001b[1;34m(self, unbuffered)\u001b[0m\n\u001b[0;32m    820\u001b[0m \u001b[38;5;28;01melse\u001b[39;00m:\n\u001b[0;32m    821\u001b[0m     result \u001b[38;5;241m=\u001b[39m MySQLResult(\u001b[38;5;28mself\u001b[39m)\n\u001b[1;32m--> 822\u001b[0m     \u001b[43mresult\u001b[49m\u001b[38;5;241;43m.\u001b[39;49m\u001b[43mread\u001b[49m\u001b[43m(\u001b[49m\u001b[43m)\u001b[49m\n\u001b[0;32m    823\u001b[0m \u001b[38;5;28mself\u001b[39m\u001b[38;5;241m.\u001b[39m_result \u001b[38;5;241m=\u001b[39m result\n\u001b[0;32m    824\u001b[0m \u001b[38;5;28;01mif\u001b[39;00m result\u001b[38;5;241m.\u001b[39mserver_status \u001b[38;5;129;01mis\u001b[39;00m \u001b[38;5;129;01mnot\u001b[39;00m \u001b[38;5;28;01mNone\u001b[39;00m:\n",
      "File \u001b[1;32mc:\\Users\\ADMIN\\Documents\\Data Analytics\\Machine Learning\\NLP\\NLP Projects\\Text_to_SQL_SuperStore\\venv\\lib\\site-packages\\pymysql\\connections.py:1200\u001b[0m, in \u001b[0;36mMySQLResult.read\u001b[1;34m(self)\u001b[0m\n\u001b[0;32m   1198\u001b[0m \u001b[38;5;28;01mdef\u001b[39;00m \u001b[38;5;21mread\u001b[39m(\u001b[38;5;28mself\u001b[39m):\n\u001b[0;32m   1199\u001b[0m     \u001b[38;5;28;01mtry\u001b[39;00m:\n\u001b[1;32m-> 1200\u001b[0m         first_packet \u001b[38;5;241m=\u001b[39m \u001b[38;5;28;43mself\u001b[39;49m\u001b[38;5;241;43m.\u001b[39;49m\u001b[43mconnection\u001b[49m\u001b[38;5;241;43m.\u001b[39;49m\u001b[43m_read_packet\u001b[49m\u001b[43m(\u001b[49m\u001b[43m)\u001b[49m\n\u001b[0;32m   1202\u001b[0m         \u001b[38;5;28;01mif\u001b[39;00m first_packet\u001b[38;5;241m.\u001b[39mis_ok_packet():\n\u001b[0;32m   1203\u001b[0m             \u001b[38;5;28mself\u001b[39m\u001b[38;5;241m.\u001b[39m_read_ok_packet(first_packet)\n",
      "File \u001b[1;32mc:\\Users\\ADMIN\\Documents\\Data Analytics\\Machine Learning\\NLP\\NLP Projects\\Text_to_SQL_SuperStore\\venv\\lib\\site-packages\\pymysql\\connections.py:772\u001b[0m, in \u001b[0;36mConnection._read_packet\u001b[1;34m(self, packet_type)\u001b[0m\n\u001b[0;32m    770\u001b[0m     \u001b[38;5;28;01mif\u001b[39;00m \u001b[38;5;28mself\u001b[39m\u001b[38;5;241m.\u001b[39m_result \u001b[38;5;129;01mis\u001b[39;00m \u001b[38;5;129;01mnot\u001b[39;00m \u001b[38;5;28;01mNone\u001b[39;00m \u001b[38;5;129;01mand\u001b[39;00m \u001b[38;5;28mself\u001b[39m\u001b[38;5;241m.\u001b[39m_result\u001b[38;5;241m.\u001b[39munbuffered_active \u001b[38;5;129;01mis\u001b[39;00m \u001b[38;5;28;01mTrue\u001b[39;00m:\n\u001b[0;32m    771\u001b[0m         \u001b[38;5;28mself\u001b[39m\u001b[38;5;241m.\u001b[39m_result\u001b[38;5;241m.\u001b[39munbuffered_active \u001b[38;5;241m=\u001b[39m \u001b[38;5;28;01mFalse\u001b[39;00m\n\u001b[1;32m--> 772\u001b[0m     \u001b[43mpacket\u001b[49m\u001b[38;5;241;43m.\u001b[39;49m\u001b[43mraise_for_error\u001b[49m\u001b[43m(\u001b[49m\u001b[43m)\u001b[49m\n\u001b[0;32m    773\u001b[0m \u001b[38;5;28;01mreturn\u001b[39;00m packet\n",
      "File \u001b[1;32mc:\\Users\\ADMIN\\Documents\\Data Analytics\\Machine Learning\\NLP\\NLP Projects\\Text_to_SQL_SuperStore\\venv\\lib\\site-packages\\pymysql\\protocol.py:221\u001b[0m, in \u001b[0;36mMysqlPacket.raise_for_error\u001b[1;34m(self)\u001b[0m\n\u001b[0;32m    219\u001b[0m \u001b[38;5;28;01mif\u001b[39;00m DEBUG:\n\u001b[0;32m    220\u001b[0m     \u001b[38;5;28mprint\u001b[39m(\u001b[38;5;124m\"\u001b[39m\u001b[38;5;124merrno =\u001b[39m\u001b[38;5;124m\"\u001b[39m, errno)\n\u001b[1;32m--> 221\u001b[0m \u001b[43merr\u001b[49m\u001b[38;5;241;43m.\u001b[39;49m\u001b[43mraise_mysql_exception\u001b[49m\u001b[43m(\u001b[49m\u001b[38;5;28;43mself\u001b[39;49m\u001b[38;5;241;43m.\u001b[39;49m\u001b[43m_data\u001b[49m\u001b[43m)\u001b[49m\n",
      "File \u001b[1;32mc:\\Users\\ADMIN\\Documents\\Data Analytics\\Machine Learning\\NLP\\NLP Projects\\Text_to_SQL_SuperStore\\venv\\lib\\site-packages\\pymysql\\err.py:143\u001b[0m, in \u001b[0;36mraise_mysql_exception\u001b[1;34m(data)\u001b[0m\n\u001b[0;32m    141\u001b[0m \u001b[38;5;28;01mif\u001b[39;00m errorclass \u001b[38;5;129;01mis\u001b[39;00m \u001b[38;5;28;01mNone\u001b[39;00m:\n\u001b[0;32m    142\u001b[0m     errorclass \u001b[38;5;241m=\u001b[39m InternalError \u001b[38;5;28;01mif\u001b[39;00m errno \u001b[38;5;241m<\u001b[39m \u001b[38;5;241m1000\u001b[39m \u001b[38;5;28;01melse\u001b[39;00m OperationalError\n\u001b[1;32m--> 143\u001b[0m \u001b[38;5;28;01mraise\u001b[39;00m errorclass(errno, errval)\n",
      "\u001b[1;31mOperationalError\u001b[0m: (pymysql.err.OperationalError) (1054, \"Unknown column 'Returned' in 'where clause'\")\n[SQL: SELECT Sub_Category, COUNT(*) FROM orders WHERE Category = 'Office Supplies' AND Returned = 'Yes' GROUP BY Sub_Category]\n(Background on this error at: https://sqlalche.me/e/20/e3q8)"
     ]
    }
   ],
   "source": [
    "response = new_chain(\"How many returns were made for each sub-category of office supplies?\")\n",
    "df = return_df(response)\n",
    "df.head()"
   ]
  },
  {
   "cell_type": "code",
   "execution_count": null,
   "metadata": {},
   "outputs": [],
   "source": []
  }
 ],
 "metadata": {
  "kernelspec": {
   "display_name": "Python 3",
   "language": "python",
   "name": "python3"
  },
  "language_info": {
   "codemirror_mode": {
    "name": "ipython",
    "version": 3
   },
   "file_extension": ".py",
   "mimetype": "text/x-python",
   "name": "python",
   "nbconvert_exporter": "python",
   "pygments_lexer": "ipython3",
   "version": "3.10.0"
  }
 },
 "nbformat": 4,
 "nbformat_minor": 2
}
