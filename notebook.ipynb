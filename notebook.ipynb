{
 "cells": [
  {
   "cell_type": "markdown",
   "metadata": {},
   "source": [
    "## Chat with the SuperStore Dataset"
   ]
  },
  {
   "cell_type": "code",
   "execution_count": 9,
   "metadata": {},
   "outputs": [
    {
     "data": {
      "text/plain": [
       "True"
      ]
     },
     "execution_count": 9,
     "metadata": {},
     "output_type": "execute_result"
    }
   ],
   "source": [
    "#importing the necessary dependencies\n",
    "import os\n",
    "from langchain.llms import GooglePalm\n",
    "from dotenv import load_dotenv\n",
    "load_dotenv()"
   ]
  },
  {
   "cell_type": "code",
   "execution_count": 10,
   "metadata": {},
   "outputs": [
    {
     "name": "stderr",
     "output_type": "stream",
     "text": [
      "c:\\Users\\ADMIN\\Documents\\Data Analytics\\Machine Learning\\NLP\\NLP Projects\\Text_to_SQL_SuperStore\\venv\\lib\\site-packages\\tqdm\\auto.py:21: TqdmWarning: IProgress not found. Please update jupyter and ipywidgets. See https://ipywidgets.readthedocs.io/en/stable/user_install.html\n",
      "  from .autonotebook import tqdm as notebook_tqdm\n"
     ]
    }
   ],
   "source": [
    "#loading g the llm\n",
    "llm=GooglePalm(google_api_key=os.environ['GOOGLE_API_KEY'],temperature=0.6)"
   ]
  },
  {
   "cell_type": "code",
   "execution_count": 21,
   "metadata": {},
   "outputs": [
    {
     "name": "stdout",
     "output_type": "stream",
     "text": [
      "\n",
      "CREATE TABLE orders (\n",
      "\t`Row_ID` INTEGER, \n",
      "\t`Order_ID` TEXT, \n",
      "\t`Order_Date` TEXT, \n",
      "\t`Ship_Date` TEXT, \n",
      "\t`Ship_Mode` TEXT, \n",
      "\t`Customer_ID` TEXT, \n",
      "\t`Customer_Name` TEXT, \n",
      "\t`Segment` TEXT, \n",
      "\t`Country` TEXT, \n",
      "\t`City` TEXT, \n",
      "\t`State` TEXT, \n",
      "\t`Postal_Code` TEXT, \n",
      "\t`Region` TEXT, \n",
      "\t`Product_ID` TEXT, \n",
      "\t`Category` TEXT, \n",
      "\t`Sub_Category` TEXT, \n",
      "\t`Product_Name` TEXT, \n",
      "\t`Sales` DOUBLE, \n",
      "\t`Quantity` INTEGER, \n",
      "\t`Discount` DOUBLE, \n",
      "\t`Profit` DOUBLE\n",
      ")ENGINE=InnoDB COLLATE utf8mb4_0900_ai_ci DEFAULT CHARSET=utf8mb4\n",
      "\n",
      "/*\n",
      "3 rows from orders table:\n",
      "Row_ID\tOrder_ID\tOrder_Date\tShip_Date\tShip_Mode\tCustomer_ID\tCustomer_Name\tSegment\tCountry\tCity\tState\tPostal_Code\tRegion\tProduct_ID\tCategory\tSub_Category\tProduct_Name\tSales\tQuantity\tDiscount\tProfit\n",
      "1\tCA-2020-152156\t11/8/2020\t11/11/2020\tSecond Class\tCG-12520\tClaire Gute\tConsumer\tUnited States\tHenderson\tKentucky\t42420\tSouth\tFUR-BO-10001798\tFurniture\tBookcases\tBush Somerset Collection Bookcase\t261.9600000000\t2\t0E-10\t41.9136000000\n",
      "2\tCA-2020-152156\t11/8/2020\t11/11/2020\tSecond Class\tCG-12520\tClaire Gute\tConsumer\tUnited States\tHenderson\tKentucky\t42420\tSouth\tFUR-CH-10000454\tFurniture\tChairs\tHon Deluxe Fabric Upholstered Stacking Chairs, Rounded Back\t731.9400000000\t3\t0E-10\t219.5820000000\n",
      "3\tCA-2020-138688\t6/12/2020\t6/16/2020\tSecond Class\tDV-13045\tDarrin Van Huff\tCorporate\tUnited States\tLos Angeles\tCalifornia\t90036\tWest\tOFF-LA-10000240\tOffice Supplies\tLabels\tSelf-Adhesive Address Labels for Typewriters by Universal\t14.6200000000\t2\t0E-10\t6.8714000000\n",
      "*/\n",
      "\n",
      "\n",
      "CREATE TABLE people (\n",
      "\t`Regional_Manager` TEXT, \n",
      "\t`Region` TEXT\n",
      ")ENGINE=InnoDB COLLATE utf8mb4_0900_ai_ci DEFAULT CHARSET=utf8mb4\n",
      "\n",
      "/*\n",
      "3 rows from people table:\n",
      "Regional_Manager\tRegion\n",
      "Sadie Pawthorne\tWest\n",
      "Chuck Magee\tEast\n",
      "Roxanne Rodriguez\tCentral\n",
      "*/\n",
      "\n",
      "\n",
      "CREATE TABLE returns (\n",
      "\t`Returned` TEXT, \n",
      "\t`Order_ID` TEXT\n",
      ")ENGINE=InnoDB COLLATE utf8mb4_0900_ai_ci DEFAULT CHARSET=utf8mb4\n",
      "\n",
      "/*\n",
      "3 rows from returns table:\n",
      "Returned\tOrder_ID\n",
      "Yes\tCA-2018-100762\n",
      "Yes\tCA-2018-100762\n",
      "Yes\tCA-2018-100762\n",
      "*/\n"
     ]
    }
   ],
   "source": [
    "#connecting to SQL database:Superstore database\n",
    "from langchain.utilities import SQLDatabase\n",
    "\n",
    "#db_password: Do Not Use Special Characters\n",
    "db_user = \"root\"\n",
    "db_password = \"root1234\"\n",
    "db_host = \"localhost\"\n",
    "db_name = \"sample_superstore\"\n",
    "\n",
    "db = SQLDatabase.from_uri(f\"mysql+pymysql://{db_user}:{db_password}@{db_host}/{db_name}\",sample_rows_in_table_info=3)\n",
    "\n",
    "print(db.table_info)"
   ]
  },
  {
   "cell_type": "code",
   "execution_count": 22,
   "metadata": {},
   "outputs": [],
   "source": [
    "#using SQL chain\n",
    "from langchain_experimental.sql import SQLDatabaseChain\n",
    "\n",
    "#Put verbose=true to view the generated SQL statements\n",
    "db_chain = SQLDatabaseChain.from_llm(llm,db,verbose=True)"
   ]
  },
  {
   "cell_type": "markdown",
   "metadata": {},
   "source": [
    "### Exploring the Answers without adding Few Shot Learning"
   ]
  },
  {
   "cell_type": "code",
   "execution_count": 23,
   "metadata": {},
   "outputs": [
    {
     "name": "stdout",
     "output_type": "stream",
     "text": [
      "\n",
      "\n",
      "\u001b[1m> Entering new SQLDatabaseChain chain...\u001b[0m\n",
      "what is the total number of returns made by the store\n",
      "SQLQuery:\u001b[32;1m\u001b[1;3mSELECT COUNT(*) FROM returns\u001b[0m\n",
      "SQLResult: \u001b[33;1m\u001b[1;3m[(800,)]\u001b[0m\n",
      "Answer:\u001b[32;1m\u001b[1;3m800\u001b[0m\n",
      "\u001b[1m> Finished chain.\u001b[0m\n"
     ]
    }
   ],
   "source": [
    "qns1 = db_chain.run(\"what is the total number of returns made by the store\")"
   ]
  },
  {
   "cell_type": "markdown",
   "metadata": {},
   "source": [
    "Need to be more specific to differentiate between the number of products returned and the number of orders returned. Let's check if it can tell the difference."
   ]
  },
  {
   "cell_type": "code",
   "execution_count": 24,
   "metadata": {},
   "outputs": [
    {
     "name": "stdout",
     "output_type": "stream",
     "text": [
      "\n",
      "\n",
      "\u001b[1m> Entering new SQLDatabaseChain chain...\u001b[0m\n",
      "what is the total number of orders returned to the store\n",
      "SQLQuery:\u001b[32;1m\u001b[1;3mSELECT COUNT(*) FROM returns\u001b[0m\n",
      "SQLResult: \u001b[33;1m\u001b[1;3m[(800,)]\u001b[0m\n",
      "Answer:\u001b[32;1m\u001b[1;3m800\u001b[0m\n",
      "\u001b[1m> Finished chain.\u001b[0m\n"
     ]
    }
   ],
   "source": [
    "qns1 = db_chain.run(\"what is the total number of orders returned to the store\")"
   ]
  },
  {
   "cell_type": "code",
   "execution_count": 25,
   "metadata": {},
   "outputs": [
    {
     "name": "stdout",
     "output_type": "stream",
     "text": [
      "\n",
      "\n",
      "\u001b[1m> Entering new SQLDatabaseChain chain...\u001b[0m\n",
      "what is the total number of products returned to the store\n",
      "SQLQuery:\u001b[32;1m\u001b[1;3mSELECT COUNT(*) AS Total_Products_Returned FROM returns\u001b[0m\n",
      "SQLResult: \u001b[33;1m\u001b[1;3m[(800,)]\u001b[0m\n",
      "Answer:\u001b[32;1m\u001b[1;3m800\u001b[0m\n",
      "\u001b[1m> Finished chain.\u001b[0m\n"
     ]
    }
   ],
   "source": [
    "qns1 = db_chain.run(\"what is the total number of products returned to the store\")"
   ]
  },
  {
   "cell_type": "markdown",
   "metadata": {},
   "source": [
    "Seems it can't tell the difference. This is an example of a query that should be used in few shot learning"
   ]
  },
  {
   "cell_type": "code",
   "execution_count": 26,
   "metadata": {},
   "outputs": [
    {
     "name": "stdout",
     "output_type": "stream",
     "text": [
      "\n",
      "\n",
      "\u001b[1m> Entering new SQLDatabaseChain chain...\u001b[0m\n",
      "what is the total sales made by the store\n",
      "SQLQuery:\u001b[32;1m\u001b[1;3mSELECT SUM(Sales) FROM orders\u001b[0m\n",
      "SQLResult: \u001b[33;1m\u001b[1;3m[(2272449.8562999545,)]\u001b[0m\n",
      "Answer:\u001b[32;1m\u001b[1;3m2272449.8562999545\u001b[0m\n",
      "\u001b[1m> Finished chain.\u001b[0m\n"
     ]
    }
   ],
   "source": [
    "qns1 = db_chain.run(\"what is the total sales made by the store\")"
   ]
  },
  {
   "cell_type": "code",
   "execution_count": null,
   "metadata": {},
   "outputs": [],
   "source": []
  },
  {
   "cell_type": "code",
   "execution_count": null,
   "metadata": {},
   "outputs": [],
   "source": []
  },
  {
   "cell_type": "code",
   "execution_count": null,
   "metadata": {},
   "outputs": [],
   "source": []
  },
  {
   "cell_type": "code",
   "execution_count": null,
   "metadata": {},
   "outputs": [],
   "source": []
  },
  {
   "cell_type": "code",
   "execution_count": null,
   "metadata": {},
   "outputs": [],
   "source": []
  },
  {
   "cell_type": "markdown",
   "metadata": {},
   "source": []
  }
 ],
 "metadata": {
  "kernelspec": {
   "display_name": "Python 3",
   "language": "python",
   "name": "python3"
  },
  "language_info": {
   "codemirror_mode": {
    "name": "ipython",
    "version": 3
   },
   "file_extension": ".py",
   "mimetype": "text/x-python",
   "name": "python",
   "nbconvert_exporter": "python",
   "pygments_lexer": "ipython3",
   "version": "3.10.0"
  }
 },
 "nbformat": 4,
 "nbformat_minor": 2
}
